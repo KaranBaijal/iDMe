{
 "cells": [
  {
   "cell_type": "code",
   "execution_count": 25,
   "metadata": {},
   "outputs": [],
   "source": [
    "import uproot\n",
    "import ROOT\n",
    "import numpy as np"
   ]
  },
  {
   "cell_type": "code",
   "execution_count": 31,
   "metadata": {},
   "outputs": [
    {
     "data": {
      "text/plain": [
       "[b'event_num',\n",
       " b'lumi_sec',\n",
       " b'run_num',\n",
       " b'n_ele',\n",
       " b'ele_pt',\n",
       " b'ele_eta',\n",
       " b'ele_phi',\n",
       " b'ele_vxy',\n",
       " b'ele_vz',\n",
       " b'ele_charge',\n",
       " b'n_lowpt_ele',\n",
       " b'lowpt_ele_pt',\n",
       " b'lowpt_ele_eta',\n",
       " b'lowpt_ele_phi',\n",
       " b'lowpt_ele_vxy',\n",
       " b'lowpt_ele_vz',\n",
       " b'lowpt_ele_charge',\n",
       " b'reco_vtx_regreg_vxy',\n",
       " b'reco_vtx_regreg_vz',\n",
       " b'reco_vtx_regreg_sigmavxy',\n",
       " b'reco_vtx_regreg_reduced_chi2',\n",
       " b'reco_vtx_regreg_dR',\n",
       " b'reco_vtx_lowlow_vxy',\n",
       " b'reco_vtx_lowlow_vz',\n",
       " b'reco_vtx_lowlow_sigmavxy',\n",
       " b'reco_vtx_lowlow_reduced_chi2',\n",
       " b'reco_vtx_lowlow_dR',\n",
       " b'reco_vtx_lowreg_vxy',\n",
       " b'reco_vtx_lowreg_vz',\n",
       " b'reco_vtx_lowreg_sigmavxy',\n",
       " b'reco_vtx_lowreg_reduced_chi2',\n",
       " b'reco_vtx_lowreg_dR']"
      ]
     },
     "execution_count": 31,
     "metadata": {},
     "output_type": "execute_result"
    }
   ],
   "source": [
    "f = uproot.open(\"/uscms/home/sbrightt/nobackup/iDM/iDMe_analysis/CMSSW_10_6_26/src/iDMeAnalysis/iDMeSkimmer/test_1event.root\")\n",
    "events = f['ntuples_gbm/recoT']\n",
    "events.keys()"
   ]
  },
  {
   "cell_type": "code",
   "execution_count": null,
   "metadata": {},
   "outputs": [],
   "source": []
  }
 ],
 "metadata": {
  "kernelspec": {
   "display_name": "PyRoot",
   "language": "python",
   "name": "pyroot"
  },
  "language_info": {
   "codemirror_mode": {
    "name": "ipython",
    "version": 3
   },
   "file_extension": ".py",
   "mimetype": "text/x-python",
   "name": "python",
   "nbconvert_exporter": "python",
   "pygments_lexer": "ipython3",
   "version": "3.8.5"
  }
 },
 "nbformat": 4,
 "nbformat_minor": 4
}
