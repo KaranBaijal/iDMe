{
 "cells": [
  {
   "cell_type": "code",
   "execution_count": 1,
   "id": "885f5998",
   "metadata": {},
   "outputs": [],
   "source": [
    "from coffea.nanoevents import NanoEventsFactory, NanoAODSchema, BaseSchema\n",
    "import coffea.hist as hist\n",
    "import coffea\n",
    "import uproot\n",
    "import numpy as np\n",
    "import awkward as ak\n",
    "import matplotlib.pyplot as plt\n",
    "from analysisTools import *\n",
    "import json"
   ]
  },
  {
   "cell_type": "code",
   "execution_count": 4,
   "id": "26fd7e09",
   "metadata": {},
   "outputs": [],
   "source": [
    "f = uproot.open(\"/uscms/home/sbrightt/nobackup/iDM/iDMe_analysis/CMSSW_10_6_26/src/iDMeAnalysis/iDMeSkimmer/ntuples_MINIAOD_Mchi-42p0_dMchi-4p0_ctau-1.root\")\n",
    "genT = NanoEventsFactory.from_root(f,treepath='ntuples_gbm/genT',schemaclass=NanoAODSchema).events()\n",
    "recoT = NanoEventsFactory.from_root(f,treepath='ntuples_gbm/recoT',schemaclass=NanoAODSchema).events()"
   ]
  },
  {
   "cell_type": "code",
   "execution_count": 12,
   "id": "ca9b7812",
   "metadata": {},
   "outputs": [],
   "source": [
    "eles = recoT.Electron\n",
    "lpt_eles = recoT.LptElectron\n",
    "vtx = recoT.EleVertex"
   ]
  },
  {
   "cell_type": "code",
   "execution_count": 27,
   "id": "dae05cca",
   "metadata": {},
   "outputs": [
    {
     "name": "stdout",
     "output_type": "stream",
     "text": [
      "[-1, 1]\n",
      "[-1, 1]\n"
     ]
    },
    {
     "data": {
      "text/plain": [
       "<Array [-1e+04, 0.225, 0.225, -1e+04] type='4 * float32[parameters={\"__doc__\": \"...'>"
      ]
     },
     "execution_count": 27,
     "metadata": {},
     "output_type": "execute_result"
    }
   ],
   "source": [
    "print(eles.charge[4])\n",
    "print(lpt_eles.charge[4])\n",
    "vtx.regreg_vxy[4]"
   ]
  },
  {
   "cell_type": "code",
   "execution_count": 25,
   "id": "4f1a0ecc",
   "metadata": {},
   "outputs": [
    {
     "data": {
      "text/plain": [
       "<Array [0, 1, 0, 0, 2, 0, ... 0, 3, 3, 2, 1, 0] type='19511 * int64'>"
      ]
     },
     "execution_count": 25,
     "metadata": {},
     "output_type": "execute_result"
    }
   ],
   "source": [
    "ak.count(eles.pt,axis=1)"
   ]
  },
  {
   "cell_type": "code",
   "execution_count": null,
   "id": "af2cf883",
   "metadata": {},
   "outputs": [],
   "source": []
  }
 ],
 "metadata": {
  "kernelspec": {
   "display_name": "Python [conda env:coffea]",
   "language": "python",
   "name": "conda-env-coffea-py"
  },
  "language_info": {
   "codemirror_mode": {
    "name": "ipython",
    "version": 3
   },
   "file_extension": ".py",
   "mimetype": "text/x-python",
   "name": "python",
   "nbconvert_exporter": "python",
   "pygments_lexer": "ipython3",
   "version": "3.8.11"
  }
 },
 "nbformat": 4,
 "nbformat_minor": 5
}
