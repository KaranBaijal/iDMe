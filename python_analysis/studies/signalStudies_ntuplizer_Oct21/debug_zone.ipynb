{
 "cells": [
  {
   "cell_type": "code",
   "execution_count": 2,
   "id": "0b189599",
   "metadata": {},
   "outputs": [],
   "source": [
    "import sys\n",
    "sys.path.append(\"/uscms/home/sbrightt/nobackup/iDM/iDMe_analysis/CMSSW_10_6_26/src/iDMe/python_analysis/analysisTools\")\n",
    "from analysisImports import *\n",
    "setLibParams()\n",
    "\n",
    "cfgDir = \"/uscms/home/sbrightt/nobackup/iDM/iDMe_analysis/CMSSW_10_6_26/src/iDMe/python_analysis/configs/\"\n",
    "plt.style.use(cfgDir+'plt_settings.mplstyle')\n",
    "plt.style.use('plt_settings.mplstyle')\n",
    "NanoAODSchema.warn_missing_crossrefs = False"
   ]
  },
  {
   "cell_type": "code",
   "execution_count": 9,
   "id": "6bd2a181",
   "metadata": {},
   "outputs": [],
   "source": [
    "importlib.reload(aTools)\n",
    "az = aTools.Analyzer('sample_configs/signal_aEM.json','histo_configs/histoList.json','histo_configs/histoPlotConfig.json')\n",
    "fileset = az.sample_locs\n",
    "samples = az.sample_names\n",
    "sample_info = az.sample_info\n",
    "histos = az.histos"
   ]
  },
  {
   "cell_type": "code",
   "execution_count": 22,
   "id": "6397d01b-a962-4b61-a38d-9b3c3c881b15",
   "metadata": {},
   "outputs": [
    {
     "data": {
      "text/plain": [
       "{'sig_2018_Mchi-48.0_dMchi-16.0_ctau-1': ['root://cmsxrootd.fnal.gov//store/group/lpcmetx/iDMe//Samples/Ntuples/signal/2018/Mchi-48p0_dMchi-16p0/ctau-1//ntuples_Mchi-48p0_dMchi-16p0_ctau-1_withTimingCleaningECAL_00.root',\n",
       "  'root://cmsxrootd.fnal.gov//store/group/lpcmetx/iDMe//Samples/Ntuples/signal/2018/Mchi-48p0_dMchi-16p0/ctau-1//ntuples_Mchi-48p0_dMchi-16p0_ctau-1_withTimingCleaningECAL_01.root',\n",
       "  'root://cmsxrootd.fnal.gov//store/group/lpcmetx/iDMe//Samples/Ntuples/signal/2018/Mchi-48p0_dMchi-16p0/ctau-1//ntuples_Mchi-48p0_dMchi-16p0_ctau-1_withTimingCleaningECAL_02.root',\n",
       "  'root://cmsxrootd.fnal.gov//store/group/lpcmetx/iDMe//Samples/Ntuples/signal/2018/Mchi-48p0_dMchi-16p0/ctau-1//ntuples_Mchi-48p0_dMchi-16p0_ctau-1_withTimingCleaningECAL_03.root',\n",
       "  'root://cmsxrootd.fnal.gov//store/group/lpcmetx/iDMe//Samples/Ntuples/signal/2018/Mchi-48p0_dMchi-16p0/ctau-1//ntuples_Mchi-48p0_dMchi-16p0_ctau-1_withTimingCleaningECAL_04.root',\n",
       "  'root://cmsxrootd.fnal.gov//store/group/lpcmetx/iDMe//Samples/Ntuples/signal/2018/Mchi-48p0_dMchi-16p0/ctau-1//ntuples_Mchi-48p0_dMchi-16p0_ctau-1_withTimingCleaningECAL_05.root',\n",
       "  'root://cmsxrootd.fnal.gov//store/group/lpcmetx/iDMe//Samples/Ntuples/signal/2018/Mchi-48p0_dMchi-16p0/ctau-1//ntuples_Mchi-48p0_dMchi-16p0_ctau-1_withTimingCleaningECAL_06.root',\n",
       "  'root://cmsxrootd.fnal.gov//store/group/lpcmetx/iDMe//Samples/Ntuples/signal/2018/Mchi-48p0_dMchi-16p0/ctau-1//ntuples_Mchi-48p0_dMchi-16p0_ctau-1_withTimingCleaningECAL_07.root',\n",
       "  'root://cmsxrootd.fnal.gov//store/group/lpcmetx/iDMe//Samples/Ntuples/signal/2018/Mchi-48p0_dMchi-16p0/ctau-1//ntuples_Mchi-48p0_dMchi-16p0_ctau-1_withTimingCleaningECAL_08.root',\n",
       "  'root://cmsxrootd.fnal.gov//store/group/lpcmetx/iDMe//Samples/Ntuples/signal/2018/Mchi-48p0_dMchi-16p0/ctau-1//ntuples_Mchi-48p0_dMchi-16p0_ctau-1_withTimingCleaningECAL_09.root'],\n",
       " 'sig_2018_Mchi-48.0_dMchi-16.0_ctau-10': ['root://cmsxrootd.fnal.gov//store/group/lpcmetx/iDMe//Samples/Ntuples/signal/2018/Mchi-48p0_dMchi-16p0/ctau-10//ntuples_Mchi-48p0_dMchi-16p0_ctau-10_withTimingCleaningECAL_00.root',\n",
       "  'root://cmsxrootd.fnal.gov//store/group/lpcmetx/iDMe//Samples/Ntuples/signal/2018/Mchi-48p0_dMchi-16p0/ctau-10//ntuples_Mchi-48p0_dMchi-16p0_ctau-10_withTimingCleaningECAL_01.root',\n",
       "  'root://cmsxrootd.fnal.gov//store/group/lpcmetx/iDMe//Samples/Ntuples/signal/2018/Mchi-48p0_dMchi-16p0/ctau-10//ntuples_Mchi-48p0_dMchi-16p0_ctau-10_withTimingCleaningECAL_02.root',\n",
       "  'root://cmsxrootd.fnal.gov//store/group/lpcmetx/iDMe//Samples/Ntuples/signal/2018/Mchi-48p0_dMchi-16p0/ctau-10//ntuples_Mchi-48p0_dMchi-16p0_ctau-10_withTimingCleaningECAL_03.root',\n",
       "  'root://cmsxrootd.fnal.gov//store/group/lpcmetx/iDMe//Samples/Ntuples/signal/2018/Mchi-48p0_dMchi-16p0/ctau-10//ntuples_Mchi-48p0_dMchi-16p0_ctau-10_withTimingCleaningECAL_04.root',\n",
       "  'root://cmsxrootd.fnal.gov//store/group/lpcmetx/iDMe//Samples/Ntuples/signal/2018/Mchi-48p0_dMchi-16p0/ctau-10//ntuples_Mchi-48p0_dMchi-16p0_ctau-10_withTimingCleaningECAL_05.root',\n",
       "  'root://cmsxrootd.fnal.gov//store/group/lpcmetx/iDMe//Samples/Ntuples/signal/2018/Mchi-48p0_dMchi-16p0/ctau-10//ntuples_Mchi-48p0_dMchi-16p0_ctau-10_withTimingCleaningECAL_06.root',\n",
       "  'root://cmsxrootd.fnal.gov//store/group/lpcmetx/iDMe//Samples/Ntuples/signal/2018/Mchi-48p0_dMchi-16p0/ctau-10//ntuples_Mchi-48p0_dMchi-16p0_ctau-10_withTimingCleaningECAL_07.root',\n",
       "  'root://cmsxrootd.fnal.gov//store/group/lpcmetx/iDMe//Samples/Ntuples/signal/2018/Mchi-48p0_dMchi-16p0/ctau-10//ntuples_Mchi-48p0_dMchi-16p0_ctau-10_withTimingCleaningECAL_08.root',\n",
       "  'root://cmsxrootd.fnal.gov//store/group/lpcmetx/iDMe//Samples/Ntuples/signal/2018/Mchi-48p0_dMchi-16p0/ctau-10//ntuples_Mchi-48p0_dMchi-16p0_ctau-10_withTimingCleaningECAL_09.root'],\n",
       " 'sig_2018_Mchi-48.0_dMchi-16.0_ctau-100': ['root://cmsxrootd.fnal.gov//store/group/lpcmetx/iDMe//Samples/Ntuples/signal/2018/Mchi-48p0_dMchi-16p0/ctau-100//ntuples_Mchi-48p0_dMchi-16p0_ctau-100_withTimingCleaningECAL_00.root',\n",
       "  'root://cmsxrootd.fnal.gov//store/group/lpcmetx/iDMe//Samples/Ntuples/signal/2018/Mchi-48p0_dMchi-16p0/ctau-100//ntuples_Mchi-48p0_dMchi-16p0_ctau-100_withTimingCleaningECAL_01.root',\n",
       "  'root://cmsxrootd.fnal.gov//store/group/lpcmetx/iDMe//Samples/Ntuples/signal/2018/Mchi-48p0_dMchi-16p0/ctau-100//ntuples_Mchi-48p0_dMchi-16p0_ctau-100_withTimingCleaningECAL_02.root',\n",
       "  'root://cmsxrootd.fnal.gov//store/group/lpcmetx/iDMe//Samples/Ntuples/signal/2018/Mchi-48p0_dMchi-16p0/ctau-100//ntuples_Mchi-48p0_dMchi-16p0_ctau-100_withTimingCleaningECAL_03.root',\n",
       "  'root://cmsxrootd.fnal.gov//store/group/lpcmetx/iDMe//Samples/Ntuples/signal/2018/Mchi-48p0_dMchi-16p0/ctau-100//ntuples_Mchi-48p0_dMchi-16p0_ctau-100_withTimingCleaningECAL_04.root',\n",
       "  'root://cmsxrootd.fnal.gov//store/group/lpcmetx/iDMe//Samples/Ntuples/signal/2018/Mchi-48p0_dMchi-16p0/ctau-100//ntuples_Mchi-48p0_dMchi-16p0_ctau-100_withTimingCleaningECAL_05.root',\n",
       "  'root://cmsxrootd.fnal.gov//store/group/lpcmetx/iDMe//Samples/Ntuples/signal/2018/Mchi-48p0_dMchi-16p0/ctau-100//ntuples_Mchi-48p0_dMchi-16p0_ctau-100_withTimingCleaningECAL_06.root',\n",
       "  'root://cmsxrootd.fnal.gov//store/group/lpcmetx/iDMe//Samples/Ntuples/signal/2018/Mchi-48p0_dMchi-16p0/ctau-100//ntuples_Mchi-48p0_dMchi-16p0_ctau-100_withTimingCleaningECAL_07.root',\n",
       "  'root://cmsxrootd.fnal.gov//store/group/lpcmetx/iDMe//Samples/Ntuples/signal/2018/Mchi-48p0_dMchi-16p0/ctau-100//ntuples_Mchi-48p0_dMchi-16p0_ctau-100_withTimingCleaningECAL_08.root',\n",
       "  'root://cmsxrootd.fnal.gov//store/group/lpcmetx/iDMe//Samples/Ntuples/signal/2018/Mchi-48p0_dMchi-16p0/ctau-100//ntuples_Mchi-48p0_dMchi-16p0_ctau-100_withTimingCleaningECAL_09.root'],\n",
       " 'sig_2018_Mchi-48.0_dMchi-16.0_ctau-1000': ['root://cmsxrootd.fnal.gov//store/group/lpcmetx/iDMe//Samples/Ntuples/signal/2018/Mchi-48p0_dMchi-16p0/ctau-1000//ntuples_Mchi-48p0_dMchi-16p0_ctau-1000_withTimingCleaningECAL_00.root',\n",
       "  'root://cmsxrootd.fnal.gov//store/group/lpcmetx/iDMe//Samples/Ntuples/signal/2018/Mchi-48p0_dMchi-16p0/ctau-1000//ntuples_Mchi-48p0_dMchi-16p0_ctau-1000_withTimingCleaningECAL_01.root',\n",
       "  'root://cmsxrootd.fnal.gov//store/group/lpcmetx/iDMe//Samples/Ntuples/signal/2018/Mchi-48p0_dMchi-16p0/ctau-1000//ntuples_Mchi-48p0_dMchi-16p0_ctau-1000_withTimingCleaningECAL_02.root',\n",
       "  'root://cmsxrootd.fnal.gov//store/group/lpcmetx/iDMe//Samples/Ntuples/signal/2018/Mchi-48p0_dMchi-16p0/ctau-1000//ntuples_Mchi-48p0_dMchi-16p0_ctau-1000_withTimingCleaningECAL_03.root',\n",
       "  'root://cmsxrootd.fnal.gov//store/group/lpcmetx/iDMe//Samples/Ntuples/signal/2018/Mchi-48p0_dMchi-16p0/ctau-1000//ntuples_Mchi-48p0_dMchi-16p0_ctau-1000_withTimingCleaningECAL_04.root',\n",
       "  'root://cmsxrootd.fnal.gov//store/group/lpcmetx/iDMe//Samples/Ntuples/signal/2018/Mchi-48p0_dMchi-16p0/ctau-1000//ntuples_Mchi-48p0_dMchi-16p0_ctau-1000_withTimingCleaningECAL_05.root',\n",
       "  'root://cmsxrootd.fnal.gov//store/group/lpcmetx/iDMe//Samples/Ntuples/signal/2018/Mchi-48p0_dMchi-16p0/ctau-1000//ntuples_Mchi-48p0_dMchi-16p0_ctau-1000_withTimingCleaningECAL_06.root',\n",
       "  'root://cmsxrootd.fnal.gov//store/group/lpcmetx/iDMe//Samples/Ntuples/signal/2018/Mchi-48p0_dMchi-16p0/ctau-1000//ntuples_Mchi-48p0_dMchi-16p0_ctau-1000_withTimingCleaningECAL_07.root',\n",
       "  'root://cmsxrootd.fnal.gov//store/group/lpcmetx/iDMe//Samples/Ntuples/signal/2018/Mchi-48p0_dMchi-16p0/ctau-1000//ntuples_Mchi-48p0_dMchi-16p0_ctau-1000_withTimingCleaningECAL_08.root',\n",
       "  'root://cmsxrootd.fnal.gov//store/group/lpcmetx/iDMe//Samples/Ntuples/signal/2018/Mchi-48p0_dMchi-16p0/ctau-1000//ntuples_Mchi-48p0_dMchi-16p0_ctau-1000_withTimingCleaningECAL_09.root'],\n",
       " 'sig_2018_Mchi-42.0_dMchi-4.0_ctau-1': ['root://cmsxrootd.fnal.gov//store/group/lpcmetx/iDMe//Samples/Ntuples/signal/2018/Mchi-42p0_dMchi-4p0/ctau-1//ntuples_Mchi-42p0_dMchi-4p0_ctau-1_withTimingCleaningECAL.root'],\n",
       " 'sig_2018_Mchi-42.0_dMchi-4.0_ctau-10': ['root://cmsxrootd.fnal.gov//store/group/lpcmetx/iDMe//Samples/Ntuples/signal/2018/Mchi-42p0_dMchi-4p0/ctau-10//ntuples_Mchi-42p0_dMchi-4p0_ctau-10_withTimingCleaningECAL.root'],\n",
       " 'sig_2018_Mchi-42.0_dMchi-4.0_ctau-100': ['root://cmsxrootd.fnal.gov//store/group/lpcmetx/iDMe//Samples/Ntuples/signal/2018/Mchi-42p0_dMchi-4p0/ctau-100//ntuples_Mchi-42p0_dMchi-4p0_ctau-100_withTimingCleaningECAL.root'],\n",
       " 'sig_2018_Mchi-42.0_dMchi-4.0_ctau-1000': ['root://cmsxrootd.fnal.gov//store/group/lpcmetx/iDMe//Samples/Ntuples/signal/2018/Mchi-42p0_dMchi-4p0/ctau-1000//ntuples_Mchi-42p0_dMchi-4p0_ctau-1000_withTimingCleaningECAL.root']}"
      ]
     },
     "execution_count": 22,
     "metadata": {},
     "output_type": "execute_result"
    }
   ],
   "source": [
    "az.sample_locs"
   ]
  },
  {
   "cell_type": "code",
   "execution_count": 10,
   "id": "994ae209",
   "metadata": {},
   "outputs": [
    {
     "data": {
      "application/vnd.jupyter.widget-view+json": {
       "model_id": "a3d1d837bc674ad6888ff25bafbae127",
       "version_major": 2,
       "version_minor": 0
      },
      "text/plain": [
       "Preprocessing:   0%|          | 0/44 [00:00<?, ?file/s]"
      ]
     },
     "metadata": {},
     "output_type": "display_data"
    },
    {
     "data": {
      "application/vnd.jupyter.widget-view+json": {
       "model_id": "8e5e21e6827341c3b7780717d01e20c0",
       "version_major": 2,
       "version_minor": 0
      },
      "text/plain": [
       "Processing:   0%|          | 0/44 [00:00<?, ?chunk/s]"
      ]
     },
     "metadata": {},
     "output_type": "display_data"
    }
   ],
   "source": [
    "proc = aTools.iDMeProcessor(samples,sample_info,fileset,histos)\n",
    "out = processor.run_uproot_job(fileset,\n",
    "                              treename='ntuples/outT',\n",
    "                              processor_instance=proc,\n",
    "                              executor=processor.iterative_executor,\n",
    "                              executor_args={\n",
    "                                  \"schema\":NanoAODSchema\n",
    "                              })"
   ]
  },
  {
   "cell_type": "code",
   "execution_count": 18,
   "id": "cf3ddd16-4efe-45fd-9758-ccb3b5353b0e",
   "metadata": {},
   "outputs": [],
   "source": [
    "coffea.util.save(out,\"test_histos.coffea\")"
   ]
  },
  {
   "cell_type": "code",
   "execution_count": 19,
   "id": "7397d258-4c24-4cbf-b910-98f829306551",
   "metadata": {},
   "outputs": [
    {
     "name": "stderr",
     "output_type": "stream",
     "text": [
      "/uscms_data/d3/sbrightt/miniconda3/envs/coffea/lib/python3.8/site-packages/coffea/hist/plot.py:333: UserWarning: Attempted to set non-positive bottom ylim on a log-scaled axis.\n",
      "Invalid limit will be ignored.\n",
      "  ax.set_ylim(0, None)\n"
     ]
    },
    {
     "data": {
      "text/plain": [
       "<AxesSubplot:xlabel='$p_{T}$ [GeV]', ylabel='Events'>"
      ]
     },
     "execution_count": 19,
     "metadata": {},
     "output_type": "execute_result"
    },
    {
     "data": {
      "image/png": "[encoded data removed]",
      "text/plain": [
       "<Figure size 432x288 with 1 Axes>"
      ]
     },
     "metadata": {
      "needs_background": "light"
     },
     "output_type": "display_data"
    }
   ],
   "source": [
    "out2 = coffea.util.load(\"test_histos.coffea\")\n",
    "h = out2['ele_kinematics']\n",
    "hd = h.integrate('sample',int_range='sig_2018_Mchi-48.0_dMchi-16.0_ctau-1').integrate('ele_type',int_range='Default')\n",
    "hd2 = h.integrate('sample',int_range='sig_2018_Mchi-48.0_dMchi-16.0_ctau-1').integrate('ele_type',int_range='Default')\n",
    "hd = hd.integrate('eta',overflow='all').integrate('phi',overflow='all')\n",
    "plt.yscale('log')\n",
    "hist.plot1d(hd)"
   ]
  },
  {
   "cell_type": "code",
   "execution_count": 3,
   "id": "82c9bc8b-d6ba-4b9b-b319-8fe4a6dd665c",
   "metadata": {},
   "outputs": [
    {
     "data": {
      "text/plain": [
       "<NanoCollectionArray [[{energy: 17.2, eta: -0.95, ... []] type='26749 * var * st...'>"
      ]
     },
     "execution_count": 3,
     "metadata": {},
     "output_type": "execute_result"
    }
   ],
   "source": [
    "fname = \"root://cmsxrootd.fnal.gov//store/group/lpcmetx/iDMe//Samples/Ntuples/signal/2018/Mchi-48p0_dMchi-16p0/ctau-1//ntuples_Mchi-48p0_dMchi-16p0_ctau-1_withTimingCleaningECAL_00.root\"\n",
    "NanoAODSchema.warn_missing_crossrefs = False\n",
    "loc = uproot.open(fname)\n",
    "events = NanoEventsFactory.from_root(loc,treepath=\"ntuples/outT\",schemaclass=NanoAODSchema).events()\n",
    "events.Conversion"
   ]
  },
  {
   "cell_type": "code",
   "execution_count": 14,
   "id": "867c5067-863d-4281-86fe-ba9400dea274",
   "metadata": {},
   "outputs": [],
   "source": [
    "from coffea.nanoevents.methods import vector\n",
    "ak.behavior.update(vector.behavior)\n",
    "x = events.Conversion.x\n",
    "y = events.Conversion.y\n",
    "z = events.Conversion.z\n",
    "conv_pos = ak.zip(\n",
    "    {\n",
    "        \"x\":x,\n",
    "        \"y\":y,\n",
    "        \"z\":z\n",
    "    },\n",
    "    with_name=\"ThreeVector\"\n",
    ")\n",
    "gen_eles = events.GenPart[events.GenPart.ID == 11]\n",
    "gen_x = gen_eles.x\n",
    "gen_y = gen_eles.y\n",
    "gen_z = gen_eles.z\n",
    "gen_pos = ak.zip(\n",
    "    {\n",
    "        \"x\":gen_x,\n",
    "        \"y\":gen_y,\n",
    "        \"z\":gen_z\n",
    "    },\n",
    "    with_name=\"ThreeVector\"\n",
    ")"
   ]
  },
  {
   "cell_type": "code",
   "execution_count": 15,
   "id": "210bbd6f-1b39-460b-8916-55692b16b518",
   "metadata": {},
   "outputs": [],
   "source": [
    "gen_pos = ak.with_name(ak.broadcast_arrays(ak.flatten(gen_pos),conv_pos)[0],\"ThreeVector\")\n",
    "delta = (gen_pos - conv_pos).rho"
   ]
  },
  {
   "cell_type": "code",
   "execution_count": 16,
   "id": "af5c57f0-526d-496b-8234-58d83e31435f",
   "metadata": {},
   "outputs": [
    {
     "data": {
      "text/plain": [
       "0.015290291225840219"
      ]
     },
     "execution_count": 16,
     "metadata": {},
     "output_type": "execute_result"
    }
   ],
   "source": [
    "closest = ak.argmin(delta,axis=1,keepdims=True)\n",
    "match = ak.fill_none(ak.flatten(delta[closest]) < 5,False)\n",
    "conv_match = conv_pos[closest][match]\n",
    "len(conv_match)/len(events.eventNum)"
   ]
  },
  {
   "cell_type": "code",
   "execution_count": 202,
   "id": "e905f060-c42a-45ef-bea9-d14d4c56db93",
   "metadata": {},
   "outputs": [
    {
     "data": {
      "image/png": "[encoded data removed]",
      "text/plain": [
       "<Figure size 432x288 with 1 Axes>"
      ]
     },
     "metadata": {
      "needs_background": "light"
     },
     "output_type": "display_data"
    }
   ],
   "source": [
    "d = test - conv_pos\n",
    "h = plt.hist(ak.flatten(d.rho),bins=np.linspace(0,200,num=200))"
   ]
  },
  {
   "cell_type": "code",
   "execution_count": 187,
   "id": "8ca43c3a-c581-4907-8c1b-93693760a599",
   "metadata": {},
   "outputs": [
    {
     "data": {
      "text/plain": [
       "75.80506474504193"
      ]
     },
     "execution_count": 187,
     "metadata": {},
     "output_type": "execute_result"
    }
   ],
   "source": [
    "np.sqrt((33.9-59)**2 + (0.271-71.8)**2)"
   ]
  },
  {
   "cell_type": "code",
   "execution_count": 188,
   "id": "2d532b9d-f95e-4622-9865-77a89fc1d121",
   "metadata": {},
   "outputs": [
    {
     "data": {
      "text/plain": [
       "<TwoVectorRecord {x: -25, y: -71.6} type='TwoVector[\"x\": float32, \"y\": float32]'>"
      ]
     },
     "execution_count": 188,
     "metadata": {},
     "output_type": "execute_result"
    }
   ],
   "source": [
    "d[8][0]"
   ]
  },
  {
   "cell_type": "code",
   "execution_count": 189,
   "id": "725ed13f-19a2-4789-805d-dcfc036af98f",
   "metadata": {},
   "outputs": [
    {
     "data": {
      "text/plain": [
       "75.83904007831322"
      ]
     },
     "execution_count": 189,
     "metadata": {},
     "output_type": "execute_result"
    }
   ],
   "source": [
    "np.sqrt(25**2 + 71.6**2)"
   ]
  },
  {
   "cell_type": "code",
   "execution_count": null,
   "id": "eabd59e8-186d-4608-9407-196341980afd",
   "metadata": {},
   "outputs": [],
   "source": []
  }
 ],
 "metadata": {
  "kernelspec": {
   "display_name": "Python [conda env:coffea]",
   "language": "python",
   "name": "conda-env-coffea-py"
  },
  "language_info": {
   "codemirror_mode": {
    "name": "ipython",
    "version": 3
   },
   "file_extension": ".py",
   "mimetype": "text/x-python",
   "name": "python",
   "nbconvert_exporter": "python",
   "pygments_lexer": "ipython3",
   "version": "3.8.11"
  }
 },
 "nbformat": 4,
 "nbformat_minor": 5
}
