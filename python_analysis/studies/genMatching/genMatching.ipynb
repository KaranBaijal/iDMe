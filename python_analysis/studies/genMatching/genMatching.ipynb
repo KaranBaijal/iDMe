{
 "cells": [
  {
   "cell_type": "code",
   "execution_count": 1,
   "id": "33306235-668e-4b8d-85e3-ba5ebeaec139",
   "metadata": {},
   "outputs": [],
   "source": [
    "import sys\n",
    "sys.path.append(\"/uscms/home/sbrightt/nobackup/iDM/iDMe_analysis/CMSSW_10_6_26/src/iDMeAnalysis/python_analysis/analysisTools\")\n",
    "from analysisImports import *\n",
    "setLibParams()\n",
    "\n",
    "cfgDir = \"/uscms/home/sbrightt/nobackup/iDM/iDMe_analysis/CMSSW_10_6_26/src/iDMeAnalysis/python_analysis/configs/\"\n",
    "plt.style.use(cfgDir+'plt_settings.mplstyle')\n",
    "\n",
    "from MatchEles import genMatch_electrons"
   ]
  },
  {
   "cell_type": "code",
   "execution_count": 2,
   "id": "4a382c6e-34b7-4767-bb01-10a3f7ed3af3",
   "metadata": {},
   "outputs": [
    {
     "name": "stdout",
     "output_type": "stream",
     "text": [
      "******************************************\n",
      "Analyzing files/mchi-120_dmchi-40_ct-1.root\n",
      "------------------------------------------\n",
      "Electron matched to regular in 185 events (71.43%)\n",
      "Electron matched to low-pT in 26 events (10.04%)\n",
      "Electron matched to either in 207 events (79.92%)\n",
      "---------------------------------------------------------\n",
      "Positron matched to regular in 186 events (71.81%)\n",
      "Positron matched to low-pT in 23 events (8.88%)\n",
      "Positron matched to either in 203 events (78.38%)\n",
      "---------------------------------------------------------\n",
      "e = reg, p = reg in 134 events (51.74%)\n",
      "e = low, p = reg in 19 events (7.34%)\n",
      "e = reg, p = low in 17 events (6.56%)\n",
      "e = low, p = low in 3 events (1.16%)\n",
      "---------------------------------------------------------\n",
      "e & p both matched to something in 166 events (64.09%)\n",
      "******************************************\n",
      "Analyzing files/mchi-120_dmchi-40_ct-10.root\n",
      "------------------------------------------\n",
      "Electron matched to regular in 151 events (58.30%)\n",
      "Electron matched to low-pT in 29 events (11.20%)\n",
      "Electron matched to either in 174 events (67.18%)\n",
      "---------------------------------------------------------\n",
      "Positron matched to regular in 149 events (57.53%)\n",
      "Positron matched to low-pT in 22 events (8.49%)\n",
      "Positron matched to either in 167 events (64.48%)\n",
      "---------------------------------------------------------\n",
      "e = reg, p = reg in 94 events (36.29%)\n",
      "e = low, p = reg in 16 events (6.18%)\n",
      "e = reg, p = low in 14 events (5.41%)\n",
      "e = low, p = low in 1 events (0.39%)\n",
      "---------------------------------------------------------\n",
      "e & p both matched to something in 117 events (45.17%)\n",
      "******************************************\n",
      "Analyzing files/mchi-120_dmchi-40_ct-100.root\n",
      "------------------------------------------\n",
      "Electron matched to regular in 69 events (26.64%)\n",
      "Electron matched to low-pT in 30 events (11.58%)\n",
      "Electron matched to either in 95 events (36.68%)\n",
      "---------------------------------------------------------\n",
      "Positron matched to regular in 70 events (27.03%)\n",
      "Positron matched to low-pT in 36 events (13.90%)\n",
      "Positron matched to either in 102 events (39.38%)\n",
      "---------------------------------------------------------\n",
      "e = reg, p = reg in 33 events (12.74%)\n",
      "e = low, p = reg in 10 events (3.86%)\n",
      "e = reg, p = low in 12 events (4.63%)\n",
      "e = low, p = low in 8 events (3.09%)\n",
      "---------------------------------------------------------\n",
      "e & p both matched to something in 58 events (22.39%)\n",
      "******************************************\n",
      "Analyzing files/mchi-120_dmchi-40_ct-1000.root\n",
      "------------------------------------------\n",
      "Electron matched to regular in 11 events (4.25%)\n",
      "Electron matched to low-pT in 11 events (4.25%)\n",
      "Electron matched to either in 22 events (8.49%)\n",
      "---------------------------------------------------------\n",
      "Positron matched to regular in 12 events (4.63%)\n",
      "Positron matched to low-pT in 15 events (5.79%)\n",
      "Positron matched to either in 27 events (10.42%)\n",
      "---------------------------------------------------------\n",
      "e = reg, p = reg in 5 events (1.93%)\n",
      "e = low, p = reg in 0 events (0.00%)\n",
      "e = reg, p = low in 1 events (0.39%)\n",
      "e = low, p = low in 6 events (2.32%)\n",
      "---------------------------------------------------------\n",
      "e & p both matched to something in 12 events (4.63%)\n"
     ]
    }
   ],
   "source": [
    "files = [\"files/\"+f for f in os.listdir(\"files\")]\n",
    "for f in files:\n",
    "    genMatch_electrons(f)"
   ]
  },
  {
   "cell_type": "code",
   "execution_count": 35,
   "id": "fc32ace2-213f-43b4-b898-c4ff5f74c187",
   "metadata": {},
   "outputs": [],
   "source": [
    "regreg = events.EleVertexRegReg\n",
    "lowreg = events.EleVertexLowReg\n",
    "lowlow = events.EleVertexLowLow\n",
    "\n",
    "gen_vtx = ak.zip({\"x\":genE.x,\"y\":genE.y,\"z\":genE.z},with_name=\"ThreeVector\")\n",
    "\n",
    "rr_vtx = ak.zip({\"x\":regreg.x,\"y\":regreg.y,\"z\":regreg.z},with_name=\"ThreeVector\")\n",
    "lr_vtx = ak.zip({\"x\":lowreg.x,\"y\":lowreg.y,\"z\":lowreg.z},with_name=\"ThreeVector\")\n",
    "ll_vtx = ak.zip({\"x\":lowlow.x,\"y\":lowlow.y,\"z\":lowlow.z},with_name=\"ThreeVector\")\n",
    "\n",
    "# Cleaning\n",
    "rr_vtx = rr_vtx[rr_vtx.x != -9999]\n",
    "lr_vtx = lr_vtx[lr_vtx.x != -9999]\n",
    "ll_vtx = ll_vtx[ll_vtx.x != -9999]"
   ]
  },
  {
   "cell_type": "code",
   "execution_count": 62,
   "id": "1b446cb6-eff3-446e-b038-7b901a13fa0d",
   "metadata": {},
   "outputs": [
    {
     "data": {
      "image/png": "[encoded data removed]",
      "text/plain": [
       "<Figure size 432x288 with 1 Axes>"
      ]
     },
     "metadata": {
      "needs_background": "light"
     },
     "output_type": "display_data"
    }
   ],
   "source": [
    "rr_min = ak.fill_none(ak.min((rr_vtx - gen_vtx).rho,axis=1),-1)\n",
    "lr_min = ak.fill_none(ak.min((lr_vtx - gen_vtx).rho,axis=1),-1)\n",
    "ll_min = ak.fill_none(ak.min((ll_vtx - gen_vtx).rho,axis=1),-1)\n",
    "plt.hist(rr_min,bins=np.linspace(0,10,100),histtype=\"step\")\n",
    "plt.hist(lr_min,bins=np.linspace(0,10,100),histtype=\"step\")\n",
    "plt.hist(ll_min,bins=np.linspace(0,10,100),histtype=\"step\")\n",
    "plt.yscale(\"log\")"
   ]
  },
  {
   "cell_type": "code",
   "execution_count": 60,
   "id": "71331d70-b5cd-4aad-a4d1-4246591e4f34",
   "metadata": {},
   "outputs": [
    {
     "data": {
      "text/plain": [
       "<Array [8.02, -1, -1, -1, ... 3.58, 2.97, -1] type='16492 * float64'>"
      ]
     },
     "execution_count": 60,
     "metadata": {},
     "output_type": "execute_result"
    }
   ],
   "source": []
  },
  {
   "cell_type": "code",
   "execution_count": null,
   "id": "e5d3b501-46c6-4b50-89ee-1092d1953480",
   "metadata": {},
   "outputs": [],
   "source": []
  }
 ],
 "metadata": {
  "kernelspec": {
   "display_name": "Python [conda env:coffea]",
   "language": "python",
   "name": "conda-env-coffea-py"
  },
  "language_info": {
   "codemirror_mode": {
    "name": "ipython",
    "version": 3
   },
   "file_extension": ".py",
   "mimetype": "text/x-python",
   "name": "python",
   "nbconvert_exporter": "python",
   "pygments_lexer": "ipython3",
   "version": "3.8.11"
  }
 },
 "nbformat": 4,
 "nbformat_minor": 5
}
