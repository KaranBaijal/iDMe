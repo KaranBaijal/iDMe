{
 "cells": [
  {
   "cell_type": "code",
   "execution_count": 1,
   "id": "bf15d0c2-9f23-486a-ab23-6aac746bcea8",
   "metadata": {},
   "outputs": [],
   "source": [
    "%load_ext autoreload\n",
    "%autoreload 2\n",
    "import uproot as ur\n",
    "import awkward as ak\n",
    "import numpy as np\n",
    "import matplotlib.pyplot as plt\n",
    "import matplotlib as mpl\n",
    "import sys\n",
    "sys.path.append(\"/uscms/home/sbrightt/nobackup/iDM/iDMe_analysis/CMSSW_10_6_26/src/iDMeAnalysis/python_analysis/analysisTools\")\n",
    "import analysisTools as tools"
   ]
  },
  {
   "cell_type": "code",
   "execution_count": 2,
   "id": "a828a6cc-1cc2-4dc0-831b-eac825a41752",
   "metadata": {},
   "outputs": [],
   "source": [
    "t1 = tools.loadNano(\"from_aod.root\")\n",
    "t2 = tools.loadNano(\"from_mini.root\")"
   ]
  },
  {
   "cell_type": "code",
   "execution_count": 3,
   "id": "c3fd9336-5f9c-49ae-9c7b-a5557feccc2a",
   "metadata": {},
   "outputs": [],
   "source": [
    "t1 = t1[ak.argsort(t1.eventNum)]\n",
    "t2 = t2[ak.argsort(t2.eventNum)]"
   ]
  },
  {
   "cell_type": "code",
   "execution_count": 4,
   "id": "adbca195-b46a-42a8-ba13-fcbd19b268ec",
   "metadata": {},
   "outputs": [
    {
     "data": {
      "text/plain": [
       "True"
      ]
     },
     "execution_count": 4,
     "metadata": {},
     "output_type": "execute_result"
    }
   ],
   "source": [
    "ak.all(t1.eventNum == t2.eventNum)"
   ]
  },
  {
   "cell_type": "code",
   "execution_count": 7,
   "id": "c603a242-068b-4caf-b168-df4d5cc2be6d",
   "metadata": {},
   "outputs": [],
   "source": [
    "def checkEqual(t1,t2):\n",
    "    fields = t1.fields\n",
    "    for f in fields:\n",
    "        b1 = t1[f]\n",
    "        b2 = t2[f]\n",
    "        if len(b1.fields) > 0:\n",
    "            for f2 in b1.fields:\n",
    "                #print(\"testing field {0}, {1}\".format(f,f2))\n",
    "                try:\n",
    "                    bb1 = b1[f2]\n",
    "                    bb2 = b2[f2]\n",
    "                    if not ak.all(bb1 == bb2):\n",
    "                        print(\"field {0} subfield {1} bad; max deviation {2}\".format(f,f2,ak.max(bb1-bb2)))\n",
    "                except:\n",
    "                    print(\"field {0}, {1} couldn't be retrieved\".format(f,f2))\n",
    "        else:\n",
    "            #print(\"testing field {0}\".format(f))\n",
    "            if not ak.all(b1==b2):\n",
    "                print(\"field {0} bad, max deviation {1}\".format(f,ak.max(b1-b2)))"
   ]
  },
  {
   "cell_type": "code",
   "execution_count": 8,
   "id": "85c6c5bd-d557-4225-9e59-ece9bcc02d69",
   "metadata": {},
   "outputs": [
    {
     "name": "stdout",
     "output_type": "stream",
     "text": [
      "field PFMET subfield px bad; max deviation 1.52587890625e-05\n",
      "field PFMET subfield py bad; max deviation 3.0517578125e-05\n",
      "field PFMET subfield pt bad; max deviation 1.52587890625e-05\n",
      "field PFMET subfield phi bad; max deviation 2.384185791015625e-07\n",
      "field PFJet, CHEF couldn't be retrieved\n",
      "field PFJet, NHEF couldn't be retrieved\n",
      "field PFJet, CEEF couldn't be retrieved\n",
      "field PFJet, NEEF couldn't be retrieved\n",
      "field PFJet, corrNumDaughters couldn't be retrieved\n",
      "field PFJet, corrCHM couldn't be retrieved\n",
      "field PFJet, corrJESUp_pt couldn't be retrieved\n",
      "field PFJet, corrJESUp_eta couldn't be retrieved\n",
      "field PFJet, corrJESUp_phi couldn't be retrieved\n",
      "field PFJet, corrJESDown_pt couldn't be retrieved\n",
      "field PFJet, corrJESDown_eta couldn't be retrieved\n",
      "field PFJet, corrJESDown_phi couldn't be retrieved\n",
      "field PFJet, corrJERUp_pt couldn't be retrieved\n",
      "field PFJet, corrJERUp_eta couldn't be retrieved\n",
      "field PFJet, corrJERUp_phi couldn't be retrieved\n",
      "field PFJet, corrJERDown_pt couldn't be retrieved\n",
      "field PFJet, corrJERDown_eta couldn't be retrieved\n",
      "field PFJet, corrJERDown_phi couldn't be retrieved\n"
     ]
    }
   ],
   "source": [
    "checkEqual(t1,t2)"
   ]
  }
 ],
 "metadata": {
  "kernelspec": {
   "display_name": "Python [conda env:coffea]",
   "language": "python",
   "name": "conda-env-coffea-py"
  },
  "language_info": {
   "codemirror_mode": {
    "name": "ipython",
    "version": 3
   },
   "file_extension": ".py",
   "mimetype": "text/x-python",
   "name": "python",
   "nbconvert_exporter": "python",
   "pygments_lexer": "ipython3",
   "version": "3.8.13"
  }
 },
 "nbformat": 4,
 "nbformat_minor": 5
}
