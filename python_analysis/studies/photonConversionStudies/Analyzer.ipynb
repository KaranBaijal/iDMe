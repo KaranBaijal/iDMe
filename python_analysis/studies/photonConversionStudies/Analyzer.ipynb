{
 "cells": [
  {
   "cell_type": "code",
   "execution_count": 1,
   "id": "8f4b1c68-ccb7-4995-8434-9de17ef00b5a",
   "metadata": {},
   "outputs": [],
   "source": [
    "import sys\n",
    "sys.path.append(\"/uscms/home/sbrightt/nobackup/iDM/iDMe_analysis/CMSSW_10_6_26/src/iDMeAnalysis/python_analysis/analysisTools\")\n",
    "from analysisImports import *\n",
    "setLibParams()\n",
    "\n",
    "cfgDir = \"/uscms/home/sbrightt/nobackup/iDM/iDMe_analysis/CMSSW_10_6_26/src/iDMeAnalysis/python_analysis/configs/\"\n",
    "plt.style.use(cfgDir+'plt_settings.mplstyle')"
   ]
  },
  {
   "cell_type": "code",
   "execution_count": 2,
   "id": "b76e98c2-da68-401b-a002-0fd9f563e56d",
   "metadata": {},
   "outputs": [],
   "source": [
    "# loading in all signal sample data\n",
    "importlib.reload(aTools)\n",
    "az = aTools.Analyzer(cfgDir+'sample_configs/signal_aEM.json',cfgDir+'histo_configs/histoList.json',cfgDir+'histo_configs/histoPlotConfig.json')\n",
    "fileset = az.sample_locs\n",
    "samples = az.sample_names\n",
    "sample_info = az.sample_info\n",
    "histos = az.histos"
   ]
  },
  {
   "cell_type": "code",
   "execution_count": 3,
   "id": "19c7a1f0-708c-4d44-bcc1-6980fda95a07",
   "metadata": {},
   "outputs": [
    {
     "data": {
      "application/vnd.jupyter.widget-view+json": {
       "model_id": "5a1e1aa0322d4106b2abc075888d1857",
       "version_major": 2,
       "version_minor": 0
      },
      "text/plain": [
       "Preprocessing:   0%|          | 0/44 [00:00<?, ?file/s]"
      ]
     },
     "metadata": {},
     "output_type": "display_data"
    },
    {
     "data": {
      "application/vnd.jupyter.widget-view+json": {
       "model_id": "bf6ed98d34a34a5db95bde4c5d058a04",
       "version_major": 2,
       "version_minor": 0
      },
      "text/plain": [
       "Processing:   0%|          | 0/44 [00:00<?, ?chunk/s]"
      ]
     },
     "metadata": {},
     "output_type": "display_data"
    }
   ],
   "source": [
    "proc = aTools.iDMeProcessor(samples,sample_info,fileset,histos)\n",
    "out = processor.run_uproot_job(fileset,\n",
    "                              treename='ntuples/outT',\n",
    "                              processor_instance=proc,\n",
    "                              executor=processor.iterative_executor,\n",
    "                              executor_args={\n",
    "                                  \"schema\":NanoAODSchema\n",
    "                              })"
   ]
  },
  {
   "cell_type": "code",
   "execution_count": 4,
   "id": "b159fcf7-af19-410f-82ad-a32ab5b2e299",
   "metadata": {},
   "outputs": [],
   "source": [
    "coffea.util.save(out,\"histos.coffea\")"
   ]
  },
  {
   "cell_type": "code",
   "execution_count": 34,
   "id": "02ec87dc-4b2c-4604-b966-5d0d0b61339e",
   "metadata": {},
   "outputs": [
    {
     "data": {
      "text/plain": [
       "{'location': '/store/group/lpcmetx/iDMe//Samples/Ntuples/signal/2018/Mchi-48p0_dMchi-16p0/ctau-1/',\n",
       " 'Mchi': 48.0,\n",
       " 'dMchi': 16.0,\n",
       " 'ctau': 1,\n",
       " 'sum_wgt': 0.011292695999145508,\n",
       " 'type': 'signal',\n",
       " 'year': 2018,\n",
       " 'alphaD': 'aEM',\n",
       " 'xsec': 0.0}"
      ]
     },
     "execution_count": 34,
     "metadata": {},
     "output_type": "execute_result"
    }
   ],
   "source": [
    "sample_info[samples[0]]"
   ]
  },
  {
   "cell_type": "code",
   "execution_count": 41,
   "id": "86056733-70cc-4ed1-9d6f-2f6adf5e8447",
   "metadata": {},
   "outputs": [],
   "source": [
    "mtx = out['match_matrix']\n",
    "for samp in samples:\n",
    "    plt.figure(1,(12,8))\n",
    "    info = sample_info[samp]\n",
    "    mchi,dmchi,ctau = info[\"Mchi\"],info[\"dMchi\"],info[\"ctau\"]\n",
    "    hist.plot2d(mtx.integrate(\"sample\",samp),\"e_matchType\",ax=plt.gca(),text_opts={\"format\":\"%.6f\",\"color\":\"black\"},density=True)\n",
    "    plt.xticks(ticks=np.arange(0.5,4.5,step=1),labels=[\"No Match\",\"Regular Ele\",r\"Low $p_T$ Ele\",\"Conversion Ele\"],fontsize=14)\n",
    "    plt.yticks(ticks=np.arange(0.5,4.5,step=1),labels=[\"No Match\",\"Regular Ele\",r\"Low $p_T$ Ele\",\"Conversion Ele\"],fontsize=14,rotation=60)\n",
    "    plt.title(r\"$m_\\chi = {0:.0f}$ GeV, $\\Delta m_\\chi = {1:.0f}$ GeV, $c\\tau = {2:.0f}$ cm\".format(mchi,dmchi,ctau),fontsize=16)\n",
    "    plt.savefig(\"plots/match_matrices/mchi_{0:.0f}_dmchi_{1:.0f}_ct_{2:.0f}.pdf\".format(mchi,dmchi,ctau))\n",
    "    plt.close()"
   ]
  },
  {
   "cell_type": "code",
   "execution_count": null,
   "id": "35084b28-f9d0-428a-837e-7dc66a009905",
   "metadata": {},
   "outputs": [],
   "source": []
  }
 ],
 "metadata": {
  "kernelspec": {
   "display_name": "Python [conda env:coffea]",
   "language": "python",
   "name": "conda-env-coffea-py"
  },
  "language_info": {
   "codemirror_mode": {
    "name": "ipython",
    "version": 3
   },
   "file_extension": ".py",
   "mimetype": "text/x-python",
   "name": "python",
   "nbconvert_exporter": "python",
   "pygments_lexer": "ipython3",
   "version": "3.8.11"
  }
 },
 "nbformat": 4,
 "nbformat_minor": 5
}
