{
 "cells": [
  {
   "cell_type": "code",
   "execution_count": null,
   "id": "82bb0db3-6926-4d56-a206-6c1cf322bd96",
   "metadata": {},
   "outputs": [],
   "source": [
    "import sys\n",
    "sys.path.append(\"/uscms/home/sbrightt/nobackup/iDM/iDMe_analysis/CMSSW_10_6_26/src/iDMe/python_analysis/analysisTools\")\n",
    "from analysisImports import *\n",
    "setLibParams()\n",
    "\n",
    "cfgDir = \"/uscms/home/sbrightt/nobackup/iDM/iDMe_analysis/CMSSW_10_6_26/src/iDMe/python_analysis/configs/\"\n",
    "plt.style.use(cfgDir+'plt_settings.mplstyle')"
   ]
  },
  {
   "cell_type": "code",
   "execution_count": null,
   "id": "59cc7559-fc15-4a66-b630-9dd8517c1835",
   "metadata": {},
   "outputs": [],
   "source": [
    "t1 = ak.Array([True,False,True])\n",
    "t2 = ak.values_astype(ak.Array([True,False,True]),int)\n",
    "ak.count_nonzero(t2)"
   ]
  },
  {
   "cell_type": "code",
   "execution_count": null,
   "id": "20c2d6df-f644-463f-b0fc-17c6d784b3cd",
   "metadata": {},
   "outputs": [],
   "source": []
  }
 ],
 "metadata": {
  "kernelspec": {
   "display_name": "Python [conda env:coffea]",
   "language": "python",
   "name": "conda-env-coffea-py"
  },
  "language_info": {
   "codemirror_mode": {
    "name": "ipython",
    "version": 3
   },
   "file_extension": ".py",
   "mimetype": "text/x-python",
   "name": "python",
   "nbconvert_exporter": "python",
   "pygments_lexer": "ipython3",
   "version": "3.8.11"
  }
 },
 "nbformat": 4,
 "nbformat_minor": 5
}
