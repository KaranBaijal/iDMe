{
 "cells": [
  {
   "cell_type": "code",
   "execution_count": 1,
   "id": "3183233e-bf21-4ddb-ab5b-36e865e07f28",
   "metadata": {},
   "outputs": [],
   "source": [
    "%load_ext autoreload\n",
    "%autoreload 2\n",
    "import numpy as np\n",
    "import matplotlib.pyplot as plt\n",
    "from coffea import util\n",
    "from coffea.processor import accumulate\n",
    "import os\n",
    "import re\n",
    "import pandas as pd\n",
    "import hist\n",
    "import sys\n",
    "import matplotlib as mpl\n",
    "sys.path.append(\"/uscms/home/sbrightt/nobackup/iDM/iDMe_analysis/CMSSW_10_6_26/src/iDMeAnalysis/python_analysis/analysisTools\")\n",
    "import plotTools as ptools"
   ]
  },
  {
   "cell_type": "code",
   "execution_count": null,
   "id": "5e080bf4-d478-4bf8-b088-50fb11042483",
   "metadata": {},
   "outputs": [],
   "source": [
    "f_sig = \"signal_2018_aEM.coffea\"\n",
    "sig = util.load(f_sig)[0]\n",
    "\n",
    "bkg_files = {\n",
    "    \"QCD\":\"bkg_2018_QCD_TuneCP5_PSWeights.coffea\",\n",
    "    \"Top\":\"bkg_2018_Top.coffea\",\n",
    "    \"DY\":\"bkg_2018_DY.coffea\",\n",
    "    \"Diboson\":\"bkg_2018_Diboson.coffea\",\n",
    "    \"Triboson\":\"bkg_2018_Triboson.coffea\",\n",
    "    \"W+jets\":\"bkg_2018_WJets.coffea\",\n",
    "    \"Z+jets\":\"bkg_2018_ZJets.coffea\"\n",
    "}\n",
    "bkg_histos = {}\n",
    "histograms = []\n",
    "for b in bkg_files.keys():\n",
    "    bkg_histos[b] = util.load(bkg_files[b])[0]\n",
    "    histograms = list(bkg_histos[b].keys())\n",
    "bkg = {}\n",
    "for h in histograms:\n",
    "    if type(bkg_histos['QCD'][h]) == hist.Hist and bkg_histos['QCD'][h].sum(flow=True).value > 0:\n",
    "        bkg[h] = {b:bkg_histos[b][h][{\"samp\":sum}] for b in bkg_histos.keys()}"
   ]
  }
 ],
 "metadata": {
  "kernelspec": {
   "display_name": "Python [conda env:coffea]",
   "language": "python",
   "name": "conda-env-coffea-py"
  },
  "language_info": {
   "codemirror_mode": {
    "name": "ipython",
    "version": 3
   },
   "file_extension": ".py",
   "mimetype": "text/x-python",
   "name": "python",
   "nbconvert_exporter": "python",
   "pygments_lexer": "ipython3",
   "version": "3.8.15"
  }
 },
 "nbformat": 4,
 "nbformat_minor": 5
}
