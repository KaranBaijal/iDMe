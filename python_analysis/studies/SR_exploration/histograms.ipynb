{
 "cells": [
  {
   "cell_type": "code",
   "execution_count": 10,
   "id": "b88598c3-6045-4ac5-9ebb-7cc19c563685",
   "metadata": {},
   "outputs": [],
   "source": [
    "import numpy as np\n",
    "import matplotlib.pyplot as plt\n",
    "\n",
    "from coffea import hist\n",
    "from coffea import util\n",
    "import os\n",
    "\n",
    "import sys\n",
    "sys.path.append(\"/uscms/home/sbrightt/nobackup/iDM/iDMe_analysis/CMSSW_10_6_26/src/iDMeAnalysis/python_analysis/analysisTools\")\n",
    "import plotTools as ptools"
   ]
  },
  {
   "cell_type": "code",
   "execution_count": 2,
   "id": "d07cd1ae-4cc9-42d1-9049-d96f372f01d2",
   "metadata": {},
   "outputs": [],
   "source": [
    "bkg_dir = \"/uscms/home/sbrightt/nobackup/iDM/iDMe_analysis/CMSSW_10_6_26/src/iDMeAnalysis/python_analysis/outputs/bkg/bkg_2018_QCD_TuneCP5_PSWeights_SR_studies/\"\n",
    "sig_dir = \"/uscms/home/sbrightt/nobackup/iDM/iDMe_analysis/CMSSW_10_6_26/src/iDMeAnalysis/python_analysis/outputs/signal/signal_2018_aEM_SR_studies/\"\n",
    "\n",
    "f_bkg = util.load(bkg_dir+'combined.coffea')\n",
    "f_sig = util.load(sig_dir+'combined.coffea')"
   ]
  },
  {
   "cell_type": "code",
   "execution_count": 11,
   "id": "1daad0cc-d287-4dc5-83ee-a4f99077ec45",
   "metadata": {},
   "outputs": [],
   "source": [
    "histos = [k for k in f_sig.keys() if type(f_sig[k]) == hist.hist_tools.Hist]\n",
    "h1d = [h for h in histos if 'vs' not in h]\n",
    "h2d = [h for h in histos if 'vs' in h]\n",
    "\n",
    "info, masses, cts = ptools.getSampleInfo(f_sig,hname=h1d[0])"
   ]
  },
  {
   "cell_type": "code",
   "execution_count": 16,
   "id": "bb2baf5c-537d-4c1f-87ef-7d2cc045bdf1",
   "metadata": {},
   "outputs": [
    {
     "data": {
      "text/plain": [
       "True"
      ]
     },
     "execution_count": 16,
     "metadata": {},
     "output_type": "execute_result"
    }
   ],
   "source": [
    "# Making 1D histos with delta/ctau overlays"
   ]
  },
  {
   "cell_type": "code",
   "execution_count": 17,
   "id": "cc59ff7d-8858-4c99-ac7f-e09a4a55def7",
   "metadata": {},
   "outputs": [
    {
     "data": {
      "text/plain": [
       "['sel_e_pt',\n",
       " 'sel_e_trkIso',\n",
       " 'sel_e_trkRelIso',\n",
       " 'sel_e_trkChi2',\n",
       " 'sel_e_trkProb',\n",
       " 'sel_e_dxy',\n",
       " 'sel_e_dxySignif',\n",
       " 'sel_e_angRes',\n",
       " 'sel_vtx_dR',\n",
       " 'sel_vtx_chi2',\n",
       " 'sel_vtx_prob',\n",
       " 'sel_vtx_vxy',\n",
       " 'sel_vtx_vxy_zoom',\n",
       " 'sel_vtx_vxy_zoomzoom',\n",
       " 'sel_vtx_vxySignif',\n",
       " 'sel_vtx_mass',\n",
       " 'sel_vtx_minDxy',\n",
       " 'sel_vtx_pt',\n",
       " 'jet_met_dPhi']"
      ]
     },
     "execution_count": 17,
     "metadata": {},
     "output_type": "execute_result"
    }
   ],
   "source": [
    "h1d"
   ]
  },
  {
   "cell_type": "code",
   "execution_count": 18,
   "id": "33c3330d-5674-41d6-b526-9d59c802792a",
   "metadata": {},
   "outputs": [
    {
     "data": {
      "text/plain": [
       "['sel_e_pt_vs_trkIso',\n",
       " 'sel_e_pt_vs_trkRelIso',\n",
       " 'sel_e_pt_vs_chi2',\n",
       " 'sel_e_chi2_vs_dxy',\n",
       " 'sel_vtx_pt_vs_vxy',\n",
       " 'sel_vtx_pt_vs_vxy_zoom',\n",
       " 'sel_vtx_pt_vs_vxy_zoomzoom',\n",
       " 'sel_vtx_dR_vs_vxy',\n",
       " 'sel_vtx_dR_vs_vxy_zoom',\n",
       " 'sel_vtx_dR_vs_vxy_zoomzoom',\n",
       " 'sel_vtx_chi2_vs_vxy',\n",
       " 'sel_vtx_chi2_vs_vxy_zoom',\n",
       " 'sel_vtx_chi2_vs_vxy_zoomzoom']"
      ]
     },
     "execution_count": 18,
     "metadata": {},
     "output_type": "execute_result"
    }
   ],
   "source": [
    "h2d"
   ]
  },
  {
   "cell_type": "code",
   "execution_count": null,
   "id": "d65132f1-80f2-4b51-a90d-1b527f48b6b4",
   "metadata": {},
   "outputs": [],
   "source": []
  }
 ],
 "metadata": {
  "kernelspec": {
   "display_name": "Python [conda env:coffea]",
   "language": "python",
   "name": "conda-env-coffea-py"
  },
  "language_info": {
   "codemirror_mode": {
    "name": "ipython",
    "version": 3
   },
   "file_extension": ".py",
   "mimetype": "text/x-python",
   "name": "python",
   "nbconvert_exporter": "python",
   "pygments_lexer": "ipython3",
   "version": "3.8.13"
  }
 },
 "nbformat": 4,
 "nbformat_minor": 5
}
