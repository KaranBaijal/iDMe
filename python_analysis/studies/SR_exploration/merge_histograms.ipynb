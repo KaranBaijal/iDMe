{
 "cells": [
  {
   "cell_type": "code",
   "execution_count": 1,
   "id": "8dd78822-2a1a-427b-9608-3897bad86ff7",
   "metadata": {},
   "outputs": [],
   "source": [
    "import numpy as np\n",
    "import matplotlib.pyplot as plt\n",
    "\n",
    "from coffea import hist\n",
    "from coffea import util\n",
    "import os"
   ]
  },
  {
   "cell_type": "code",
   "execution_count": 2,
   "id": "85e2ae68-449e-48a1-bfac-0d78dd9b427d",
   "metadata": {},
   "outputs": [],
   "source": [
    "bkg_dir = \"/uscms/home/sbrightt/nobackup/iDM/iDMe_analysis/CMSSW_10_6_26/src/iDMeAnalysis/python_analysis/outputs/bkg/bkg_2018_QCD_TuneCP5_PSWeights_SR_studies/\"\n",
    "sig_dir = \"/uscms/home/sbrightt/nobackup/iDM/iDMe_analysis/CMSSW_10_6_26/src/iDMeAnalysis/python_analysis/outputs/signal/signal_2018_aEM_SR_studies/\"\n",
    "\n",
    "bkg_files = [bkg_dir+f for f in os.listdir(bkg_dir) if '.coffea' in f]\n",
    "sig_files = [sig_dir+f for f in os.listdir(sig_dir) if '.coffea' in f]\n",
    "\n",
    "bkg_tot = 0\n",
    "bkg_cutNames = 0\n",
    "for i,bf in enumerate(bkg_files):\n",
    "    hdict = util.load(bf)[0]\n",
    "    if i==0:\n",
    "        bkg_tot = hdict\n",
    "        bkg_cutNames = dict(hdict['cutDesc'])\n",
    "    else:\n",
    "        bkg_tot += hdict\n",
    "bkg_tot['cutDesc'] = bkg_cutNames\n",
    "util.save(bkg_tot,bkg_dir+'combined.coffea')\n",
    "        \n",
    "sig_tot = 0\n",
    "sig_cutNames = 0\n",
    "for i,sf in enumerate(sig_files):\n",
    "    hdict = util.load(sf)[0]\n",
    "    if i==0:\n",
    "        sig_tot = hdict\n",
    "        sig_cutNames = dict(hdict['cutDesc'])\n",
    "    else:\n",
    "        sig_tot += hdict\n",
    "sig_tot['cutDesc'] = sig_cutNames\n",
    "util.save(sig_tot,sig_dir+'combined.coffea')"
   ]
  },
  {
   "cell_type": "code",
   "execution_count": 3,
   "id": "99f8458b-8bc4-4618-8ebf-b9c239a5968b",
   "metadata": {},
   "outputs": [],
   "source": [
    "f_sig = util.load(sig_dir+'combined.coffea')\n",
    "f_bkg = util.load(bkg_dir+'combined.coffea')"
   ]
  },
  {
   "cell_type": "code",
   "execution_count": 4,
   "id": "1fb99595-e3cf-46be-ba2e-7c577a28b64e",
   "metadata": {},
   "outputs": [
    {
     "data": {
      "text/plain": [
       "defaultdict_accumulator(int,\n",
       "                        {'initial': 287885303,\n",
       "                         'cut0': 94318849,\n",
       "                         'cut1': 94224192,\n",
       "                         'cut2': 88291097,\n",
       "                         'cut3': 414123,\n",
       "                         'cut4': 62281,\n",
       "                         'cut5': 60865,\n",
       "                         'cut6': 22166,\n",
       "                         'cut7': 18457,\n",
       "                         'cut8': 17736,\n",
       "                         'cut9': 16498,\n",
       "                         'cut10': 5751,\n",
       "                         'cut11': 2101,\n",
       "                         'cut12': 1110})"
      ]
     },
     "execution_count": 4,
     "metadata": {},
     "output_type": "execute_result"
    }
   ],
   "source": [
    "# QCD background cutflow\n",
    "cf_bkg_split = f_bkg['cutflows']\n",
    "cf_bkg = 0\n",
    "for i,k in enumerate(cf_bkg_split.keys()):\n",
    "    if i==0:\n",
    "        cf_bkg = cf_bkg_split[k]\n",
    "    else:\n",
    "        cf_bkg += cf_bkg_split[k]\n",
    "cf_bkg"
   ]
  },
  {
   "cell_type": "code",
   "execution_count": 5,
   "id": "b88f8d73-695c-482e-a3b0-072ce610c9ad",
   "metadata": {},
   "outputs": [
    {
     "data": {
      "text/plain": [
       "{'cut0': 'Preselection',\n",
       " 'cut1': 'Pass MET Filters',\n",
       " 'cut2': 'HEM Veto',\n",
       " 'cut3': 'MET Trigger (120 GeV)',\n",
       " 'cut4': 'MET > 200 GeV',\n",
       " 'cut5': '|Calo MET - PF MET|/Calo MET < 1.0',\n",
       " 'cut6': '0 < nJets < 3 (pT > 30 GeV)',\n",
       " 'cut7': 'No b-tagged jets',\n",
       " 'cut8': 'Leading jet |eta| < 2.4',\n",
       " 'cut9': 'Leading jet pT > 80 GeV',\n",
       " 'cut10': 'dPhi(MET,leading jet) > 1.5',\n",
       " 'cut11': 'dPhi(MET,all jets) > 0.75',\n",
       " 'cut12': 'OSSF'}"
      ]
     },
     "execution_count": 5,
     "metadata": {},
     "output_type": "execute_result"
    }
   ],
   "source": [
    "f_bkg['cutDesc']"
   ]
  },
  {
   "cell_type": "code",
   "execution_count": null,
   "id": "5c18149b-410a-4b57-99b1-91a8aa159a2c",
   "metadata": {},
   "outputs": [],
   "source": []
  }
 ],
 "metadata": {
  "kernelspec": {
   "display_name": "Python [conda env:coffea]",
   "language": "python",
   "name": "conda-env-coffea-py"
  },
  "language_info": {
   "codemirror_mode": {
    "name": "ipython",
    "version": 3
   },
   "file_extension": ".py",
   "mimetype": "text/x-python",
   "name": "python",
   "nbconvert_exporter": "python",
   "pygments_lexer": "ipython3",
   "version": "3.8.13"
  }
 },
 "nbformat": 4,
 "nbformat_minor": 5
}
