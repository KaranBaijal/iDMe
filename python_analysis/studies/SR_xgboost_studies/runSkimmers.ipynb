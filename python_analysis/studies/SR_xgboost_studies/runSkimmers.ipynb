{
 "cells": [
  {
   "cell_type": "code",
   "execution_count": 1,
   "id": "bfcb34f3-9361-4928-90f0-4264ad84072f",
   "metadata": {},
   "outputs": [],
   "source": [
    "import json\n",
    "import uproot\n",
    "from XRootD import client\n",
    "import xgboost as xgb\n",
    "import os\n",
    "import sys\n",
    "sys.path.append(\"/uscms/home/sbrightt/nobackup/iDM/iDMe_analysis/CMSSW_10_6_26/src/iDMe/python_analysis/analysisTools/\")\n",
    "from skimmerTools import Skimmer\n",
    "import coffea\n",
    "import coffea.util as util\n",
    "import numpy as np\n",
    "import awkward as ak\n",
    "import time\n",
    "import h5py"
   ]
  },
  {
   "cell_type": "code",
   "execution_count": 2,
   "id": "d86f50cb-e4f7-43db-bc95-66252213fc86",
   "metadata": {},
   "outputs": [],
   "source": [
    "def write_h5(data,fname):\n",
    "    with h5py.File(fname,'w') as f:\n",
    "        for k in data.keys():\n",
    "            arr = data[k].value\n",
    "            if type(arr) == np.ma.core.MaskedArray:\n",
    "                arr = arr.data\n",
    "            f.create_dataset(k,data=arr)"
   ]
  },
  {
   "cell_type": "markdown",
   "id": "a34b9d7b-e233-4eb0-ad92-b4905d4a74a6",
   "metadata": {},
   "source": [
    "# with regular electron loose ID + $\\min(\\Delta R(e_1,\\mathrm{jets}), \\Delta R(e_2,\\mathrm{jets})) > 0.4$"
   ]
  },
  {
   "cell_type": "code",
   "execution_count": 3,
   "id": "2f9ceac1-a268-4d6a-85a9-98ece70a6592",
   "metadata": {},
   "outputs": [],
   "source": [
    "suffix = \"_ejdR_rejection_IDcut\""
   ]
  },
  {
   "cell_type": "code",
   "execution_count": 6,
   "id": "025b5825-4d43-49b0-84ec-ceccffe1c3f0",
   "metadata": {},
   "outputs": [
    {
     "data": {
      "text/html": [
       "<pre style=\"white-space:pre;overflow-x:auto;line-height:normal;font-family:Menlo,'DejaVu Sans Mono',consolas,'Courier New',monospace\">     <span style=\"color: #000080; text-decoration-color: #000080; font-weight: bold\">Processing</span> <span style=\"color: #800080; text-decoration-color: #800080\">100%</span> <span style=\"color: #729c1f; text-decoration-color: #729c1f\">━━━━━━━━━━━━━━━━━━━━━━━━━━━━━━━━━━━━━━━━━━━━━━━━━━━</span> <span style=\"color: #000080; text-decoration-color: #000080; font-weight: bold\">68/68</span> [ <span style=\"color: #808000; text-decoration-color: #808000\">0:00:59</span> &lt; <span style=\"color: #008080; text-decoration-color: #008080\">0:00:00</span> | <span style=\"color: #800000; text-decoration-color: #800000\">1.2</span>  <span style=\"color: #800000; text-decoration-color: #800000\">chunk/s</span> ]\n",
       "<span style=\"color: #000080; text-decoration-color: #000080; font-weight: bold\">Merging (local)</span> <span style=\"color: #800080; text-decoration-color: #800080\">100%</span> <span style=\"color: #729c1f; text-decoration-color: #729c1f\">━━━━━━━━━━━━━━━━━━━━━━━━━━━━━━━━━━━━━━━━━━━━━━━━━━━</span> <span style=\"color: #000080; text-decoration-color: #000080; font-weight: bold\">68/68</span> [ <span style=\"color: #808000; text-decoration-color: #808000\">0:00:59</span> &lt; <span style=\"color: #008080; text-decoration-color: #008080\">0:00:00</span> | <span style=\"color: #800000; text-decoration-color: #800000\">?  </span> <span style=\"color: #800000; text-decoration-color: #800000\">merges/s</span> ]\n",
       "</pre>\n"
      ],
      "text/plain": [
       "     \u001b[1;34mProcessing\u001b[0m \u001b[35m100%\u001b[0m \u001b[38;2;114;156;31m━━━━━━━━━━━━━━━━━━━━━━━━━━━━━━━━━━━━━━━━━━━━━━━━━━━\u001b[0m \u001b[1;34m68/68\u001b[0m [ \u001b[33m0:00:59\u001b[0m < \u001b[36m0:00:00\u001b[0m | \u001b[31m1.2\u001b[0m  \u001b[31mchunk/s\u001b[0m ]\n",
       "\u001b[1;34mMerging (local)\u001b[0m \u001b[35m100%\u001b[0m \u001b[38;2;114;156;31m━━━━━━━━━━━━━━━━━━━━━━━━━━━━━━━━━━━━━━━━━━━━━━━━━━━\u001b[0m \u001b[1;34m68/68\u001b[0m [ \u001b[33m0:00:59\u001b[0m < \u001b[36m0:00:00\u001b[0m | \u001b[31m?  \u001b[0m \u001b[31mmerges/s\u001b[0m ]\n"
      ]
     },
     "metadata": {},
     "output_type": "display_data"
    },
    {
     "data": {
      "text/html": [
       "<pre style=\"white-space:pre;overflow-x:auto;line-height:normal;font-family:Menlo,'DejaVu Sans Mono',consolas,'Courier New',monospace\"></pre>\n"
      ],
      "text/plain": []
     },
     "metadata": {},
     "output_type": "display_data"
    },
    {
     "data": {
      "text/html": [
       "<pre style=\"white-space:pre;overflow-x:auto;line-height:normal;font-family:Menlo,'DejaVu Sans Mono',consolas,'Courier New',monospace\">\n",
       "</pre>\n"
      ],
      "text/plain": [
       "\n"
      ]
     },
     "metadata": {},
     "output_type": "display_data"
    },
    {
     "name": "stdout",
     "output_type": "stream",
     "text": [
      "1.1409359335899354\n"
     ]
    }
   ],
   "source": [
    "samp = \"signal_v2_2018_aEM\"\n",
    "test = Skimmer(f\"{samp}.json\")\n",
    "t1 = time.time()\n",
    "out = test.process(execr='futures')\n",
    "t2 = time.time()\n",
    "print((t2-t1)/60)\n",
    "write_h5(out[0],f\"{samp}{suffix}.h5\")\n",
    "del out, test"
   ]
  },
  {
   "cell_type": "code",
   "execution_count": 7,
   "id": "c519b3db-181e-4751-aeb6-8682177b0cea",
   "metadata": {},
   "outputs": [
    {
     "data": {
      "text/html": [
       "<pre style=\"white-space:pre;overflow-x:auto;line-height:normal;font-family:Menlo,'DejaVu Sans Mono',consolas,'Courier New',monospace\">     <span style=\"color: #000080; text-decoration-color: #000080; font-weight: bold\">Processing</span> <span style=\"color: #800080; text-decoration-color: #800080\">100%</span> <span style=\"color: #729c1f; text-decoration-color: #729c1f\">━━━━━━━━━━━━━━━━━━━━━━━━━━━━━━━━━━━━━━━━━━━━━━━━━━━</span> <span style=\"color: #000080; text-decoration-color: #000080; font-weight: bold\">44/44</span> [ <span style=\"color: #808000; text-decoration-color: #808000\">0:00:45</span> &lt; <span style=\"color: #008080; text-decoration-color: #008080\">0:00:00</span> | <span style=\"color: #800000; text-decoration-color: #800000\">1.1</span>  <span style=\"color: #800000; text-decoration-color: #800000\">chunk/s</span> ]\n",
       "<span style=\"color: #000080; text-decoration-color: #000080; font-weight: bold\">Merging (local)</span> <span style=\"color: #800080; text-decoration-color: #800080\">100%</span> <span style=\"color: #729c1f; text-decoration-color: #729c1f\">━━━━━━━━━━━━━━━━━━━━━━━━━━━━━━━━━━━━━━━━━━━━━━━━━━━</span> <span style=\"color: #000080; text-decoration-color: #000080; font-weight: bold\">44/44</span> [ <span style=\"color: #808000; text-decoration-color: #808000\">0:00:45</span> &lt; <span style=\"color: #008080; text-decoration-color: #008080\">0:00:00</span> | <span style=\"color: #800000; text-decoration-color: #800000\">?  </span> <span style=\"color: #800000; text-decoration-color: #800000\">merges/s</span> ]\n",
       "</pre>\n"
      ],
      "text/plain": [
       "     \u001b[1;34mProcessing\u001b[0m \u001b[35m100%\u001b[0m \u001b[38;2;114;156;31m━━━━━━━━━━━━━━━━━━━━━━━━━━━━━━━━━━━━━━━━━━━━━━━━━━━\u001b[0m \u001b[1;34m44/44\u001b[0m [ \u001b[33m0:00:45\u001b[0m < \u001b[36m0:00:00\u001b[0m | \u001b[31m1.1\u001b[0m  \u001b[31mchunk/s\u001b[0m ]\n",
       "\u001b[1;34mMerging (local)\u001b[0m \u001b[35m100%\u001b[0m \u001b[38;2;114;156;31m━━━━━━━━━━━━━━━━━━━━━━━━━━━━━━━━━━━━━━━━━━━━━━━━━━━\u001b[0m \u001b[1;34m44/44\u001b[0m [ \u001b[33m0:00:45\u001b[0m < \u001b[36m0:00:00\u001b[0m | \u001b[31m?  \u001b[0m \u001b[31mmerges/s\u001b[0m ]\n"
      ]
     },
     "metadata": {},
     "output_type": "display_data"
    },
    {
     "data": {
      "text/html": [
       "<pre style=\"white-space:pre;overflow-x:auto;line-height:normal;font-family:Menlo,'DejaVu Sans Mono',consolas,'Courier New',monospace\"></pre>\n"
      ],
      "text/plain": []
     },
     "metadata": {},
     "output_type": "display_data"
    },
    {
     "data": {
      "text/html": [
       "<pre style=\"white-space:pre;overflow-x:auto;line-height:normal;font-family:Menlo,'DejaVu Sans Mono',consolas,'Courier New',monospace\">\n",
       "</pre>\n"
      ],
      "text/plain": [
       "\n"
      ]
     },
     "metadata": {},
     "output_type": "display_data"
    },
    {
     "name": "stdout",
     "output_type": "stream",
     "text": [
      "0.8562242825826009\n"
     ]
    }
   ],
   "source": [
    "samp = \"bkg_2018_QCD_TuneCP5_PSWeights\"\n",
    "test = Skimmer(f\"{samp}.json\")\n",
    "t1 = time.time()\n",
    "out = test.process(execr='futures')\n",
    "t2 = time.time()\n",
    "print((t2-t1)/60)\n",
    "write_h5(out[0],f\"{samp}{suffix}.h5\")\n",
    "del out, test"
   ]
  },
  {
   "cell_type": "code",
   "execution_count": 8,
   "id": "ce1f7f04-6e7a-42fb-a67f-a9c6dff3b03a",
   "metadata": {},
   "outputs": [
    {
     "data": {
      "text/html": [
       "<pre style=\"white-space:pre;overflow-x:auto;line-height:normal;font-family:Menlo,'DejaVu Sans Mono',consolas,'Courier New',monospace\">     <span style=\"color: #000080; text-decoration-color: #000080; font-weight: bold\">Processing</span> <span style=\"color: #800080; text-decoration-color: #800080\">100%</span> <span style=\"color: #729c1f; text-decoration-color: #729c1f\">━━━━━━━━━━━━━━━━━━━━━━━━━━━━━━━━━━━━━━━━━━━━━━━━━━━</span> <span style=\"color: #000080; text-decoration-color: #000080; font-weight: bold\">23/23</span> [ <span style=\"color: #808000; text-decoration-color: #808000\">0:00:11</span> &lt; <span style=\"color: #008080; text-decoration-color: #008080\">0:00:00</span> | <span style=\"color: #800000; text-decoration-color: #800000\">2.3</span>  <span style=\"color: #800000; text-decoration-color: #800000\">chunk/s</span> ]\n",
       "<span style=\"color: #000080; text-decoration-color: #000080; font-weight: bold\">Merging (local)</span> <span style=\"color: #800080; text-decoration-color: #800080\">100%</span> <span style=\"color: #729c1f; text-decoration-color: #729c1f\">━━━━━━━━━━━━━━━━━━━━━━━━━━━━━━━━━━━━━━━━━━━━━━━━━━━</span> <span style=\"color: #000080; text-decoration-color: #000080; font-weight: bold\">23/23</span> [ <span style=\"color: #808000; text-decoration-color: #808000\">0:00:11</span> &lt; <span style=\"color: #008080; text-decoration-color: #008080\">0:00:00</span> | <span style=\"color: #800000; text-decoration-color: #800000\">?  </span> <span style=\"color: #800000; text-decoration-color: #800000\">merges/s</span> ]\n",
       "</pre>\n"
      ],
      "text/plain": [
       "     \u001b[1;34mProcessing\u001b[0m \u001b[35m100%\u001b[0m \u001b[38;2;114;156;31m━━━━━━━━━━━━━━━━━━━━━━━━━━━━━━━━━━━━━━━━━━━━━━━━━━━\u001b[0m \u001b[1;34m23/23\u001b[0m [ \u001b[33m0:00:11\u001b[0m < \u001b[36m0:00:00\u001b[0m | \u001b[31m2.3\u001b[0m  \u001b[31mchunk/s\u001b[0m ]\n",
       "\u001b[1;34mMerging (local)\u001b[0m \u001b[35m100%\u001b[0m \u001b[38;2;114;156;31m━━━━━━━━━━━━━━━━━━━━━━━━━━━━━━━━━━━━━━━━━━━━━━━━━━━\u001b[0m \u001b[1;34m23/23\u001b[0m [ \u001b[33m0:00:11\u001b[0m < \u001b[36m0:00:00\u001b[0m | \u001b[31m?  \u001b[0m \u001b[31mmerges/s\u001b[0m ]\n"
      ]
     },
     "metadata": {},
     "output_type": "display_data"
    },
    {
     "data": {
      "text/html": [
       "<pre style=\"white-space:pre;overflow-x:auto;line-height:normal;font-family:Menlo,'DejaVu Sans Mono',consolas,'Courier New',monospace\"></pre>\n"
      ],
      "text/plain": []
     },
     "metadata": {},
     "output_type": "display_data"
    },
    {
     "data": {
      "text/html": [
       "<pre style=\"white-space:pre;overflow-x:auto;line-height:normal;font-family:Menlo,'DejaVu Sans Mono',consolas,'Courier New',monospace\">\n",
       "</pre>\n"
      ],
      "text/plain": [
       "\n"
      ]
     },
     "metadata": {},
     "output_type": "display_data"
    },
    {
     "name": "stdout",
     "output_type": "stream",
     "text": [
      "0.2568398952484131\n"
     ]
    }
   ],
   "source": [
    "samp = \"bkg_2018_DY\"\n",
    "test = Skimmer(f\"{samp}.json\")\n",
    "t1 = time.time()\n",
    "out = test.process(execr='futures')\n",
    "t2 = time.time()\n",
    "print((t2-t1)/60)\n",
    "write_h5(out[0],f\"{samp}{suffix}.h5\")\n",
    "del out, test"
   ]
  },
  {
   "cell_type": "code",
   "execution_count": 9,
   "id": "e578885e-eb13-4e7c-899c-9dd33de41677",
   "metadata": {},
   "outputs": [
    {
     "data": {
      "text/html": [
       "<pre style=\"white-space:pre;overflow-x:auto;line-height:normal;font-family:Menlo,'DejaVu Sans Mono',consolas,'Courier New',monospace\">     <span style=\"color: #000080; text-decoration-color: #000080; font-weight: bold\">Processing</span> <span style=\"color: #800080; text-decoration-color: #800080\">100%</span> <span style=\"color: #729c1f; text-decoration-color: #729c1f\">━━━━━━━━━━━━━━━━━━━━━━━━━━━━━━━━━━━━━━━━━━━━━━━━━━━━━</span> <span style=\"color: #000080; text-decoration-color: #000080; font-weight: bold\">8/8</span> [ <span style=\"color: #808000; text-decoration-color: #808000\">0:00:21</span> &lt; <span style=\"color: #008080; text-decoration-color: #008080\">0:00:00</span> | <span style=\"color: #800000; text-decoration-color: #800000\">0.5</span>  <span style=\"color: #800000; text-decoration-color: #800000\">chunk/s</span> ]\n",
       "<span style=\"color: #000080; text-decoration-color: #000080; font-weight: bold\">Merging (local)</span> <span style=\"color: #800080; text-decoration-color: #800080\">100%</span> <span style=\"color: #729c1f; text-decoration-color: #729c1f\">━━━━━━━━━━━━━━━━━━━━━━━━━━━━━━━━━━━━━━━━━━━━━━━━━━━━━</span> <span style=\"color: #000080; text-decoration-color: #000080; font-weight: bold\">8/8</span> [ <span style=\"color: #808000; text-decoration-color: #808000\">0:00:21</span> &lt; <span style=\"color: #008080; text-decoration-color: #008080\">0:00:00</span> | <span style=\"color: #800000; text-decoration-color: #800000\">?  </span> <span style=\"color: #800000; text-decoration-color: #800000\">merges/s</span> ]\n",
       "</pre>\n"
      ],
      "text/plain": [
       "     \u001b[1;34mProcessing\u001b[0m \u001b[35m100%\u001b[0m \u001b[38;2;114;156;31m━━━━━━━━━━━━━━━━━━━━━━━━━━━━━━━━━━━━━━━━━━━━━━━━━━━━━\u001b[0m \u001b[1;34m8/8\u001b[0m [ \u001b[33m0:00:21\u001b[0m < \u001b[36m0:00:00\u001b[0m | \u001b[31m0.5\u001b[0m  \u001b[31mchunk/s\u001b[0m ]\n",
       "\u001b[1;34mMerging (local)\u001b[0m \u001b[35m100%\u001b[0m \u001b[38;2;114;156;31m━━━━━━━━━━━━━━━━━━━━━━━━━━━━━━━━━━━━━━━━━━━━━━━━━━━━━\u001b[0m \u001b[1;34m8/8\u001b[0m [ \u001b[33m0:00:21\u001b[0m < \u001b[36m0:00:00\u001b[0m | \u001b[31m?  \u001b[0m \u001b[31mmerges/s\u001b[0m ]\n"
      ]
     },
     "metadata": {},
     "output_type": "display_data"
    },
    {
     "data": {
      "text/html": [
       "<pre style=\"white-space:pre;overflow-x:auto;line-height:normal;font-family:Menlo,'DejaVu Sans Mono',consolas,'Courier New',monospace\"></pre>\n"
      ],
      "text/plain": []
     },
     "metadata": {},
     "output_type": "display_data"
    },
    {
     "data": {
      "text/html": [
       "<pre style=\"white-space:pre;overflow-x:auto;line-height:normal;font-family:Menlo,'DejaVu Sans Mono',consolas,'Courier New',monospace\">\n",
       "</pre>\n"
      ],
      "text/plain": [
       "\n"
      ]
     },
     "metadata": {},
     "output_type": "display_data"
    },
    {
     "name": "stdout",
     "output_type": "stream",
     "text": [
      "0.4009823799133301\n"
     ]
    }
   ],
   "source": [
    "samp = \"bkg_2018_Diboson\"\n",
    "test = Skimmer(f\"{samp}.json\")\n",
    "t1 = time.time()\n",
    "out = test.process(execr='futures')\n",
    "t2 = time.time()\n",
    "print((t2-t1)/60)\n",
    "write_h5(out[0],f\"{samp}{suffix}.h5\")\n",
    "del out, test"
   ]
  },
  {
   "cell_type": "code",
   "execution_count": 10,
   "id": "09452864-d4d0-485e-a278-2ca7d3ae413a",
   "metadata": {},
   "outputs": [
    {
     "data": {
      "text/html": [
       "<pre style=\"white-space:pre;overflow-x:auto;line-height:normal;font-family:Menlo,'DejaVu Sans Mono',consolas,'Courier New',monospace\">     <span style=\"color: #000080; text-decoration-color: #000080; font-weight: bold\">Processing</span> <span style=\"color: #800080; text-decoration-color: #800080\">100%</span> <span style=\"color: #729c1f; text-decoration-color: #729c1f\">━━━━━━━━━━━━━━━━━━━━━━━━━━━━━━━━━━━━━━━━━━━━━━━━━━━</span> <span style=\"color: #000080; text-decoration-color: #000080; font-weight: bold\">97/97</span> [ <span style=\"color: #808000; text-decoration-color: #808000\">0:02:45</span> &lt; <span style=\"color: #008080; text-decoration-color: #008080\">0:00:00</span> | <span style=\"color: #800000; text-decoration-color: #800000\">0.7</span>  <span style=\"color: #800000; text-decoration-color: #800000\">chunk/s</span> ]\n",
       "<span style=\"color: #000080; text-decoration-color: #000080; font-weight: bold\">Merging (local)</span> <span style=\"color: #800080; text-decoration-color: #800080\">100%</span> <span style=\"color: #729c1f; text-decoration-color: #729c1f\">━━━━━━━━━━━━━━━━━━━━━━━━━━━━━━━━━━━━━━━━━━━━━━━━━━━</span> <span style=\"color: #000080; text-decoration-color: #000080; font-weight: bold\">97/97</span> [ <span style=\"color: #808000; text-decoration-color: #808000\">0:02:45</span> &lt; <span style=\"color: #008080; text-decoration-color: #008080\">0:00:00</span> | <span style=\"color: #800000; text-decoration-color: #800000\">?  </span> <span style=\"color: #800000; text-decoration-color: #800000\">merges/s</span> ]\n",
       "</pre>\n"
      ],
      "text/plain": [
       "     \u001b[1;34mProcessing\u001b[0m \u001b[35m100%\u001b[0m \u001b[38;2;114;156;31m━━━━━━━━━━━━━━━━━━━━━━━━━━━━━━━━━━━━━━━━━━━━━━━━━━━\u001b[0m \u001b[1;34m97/97\u001b[0m [ \u001b[33m0:02:45\u001b[0m < \u001b[36m0:00:00\u001b[0m | \u001b[31m0.7\u001b[0m  \u001b[31mchunk/s\u001b[0m ]\n",
       "\u001b[1;34mMerging (local)\u001b[0m \u001b[35m100%\u001b[0m \u001b[38;2;114;156;31m━━━━━━━━━━━━━━━━━━━━━━━━━━━━━━━━━━━━━━━━━━━━━━━━━━━\u001b[0m \u001b[1;34m97/97\u001b[0m [ \u001b[33m0:02:45\u001b[0m < \u001b[36m0:00:00\u001b[0m | \u001b[31m?  \u001b[0m \u001b[31mmerges/s\u001b[0m ]\n"
      ]
     },
     "metadata": {},
     "output_type": "display_data"
    },
    {
     "data": {
      "text/html": [
       "<pre style=\"white-space:pre;overflow-x:auto;line-height:normal;font-family:Menlo,'DejaVu Sans Mono',consolas,'Courier New',monospace\"></pre>\n"
      ],
      "text/plain": []
     },
     "metadata": {},
     "output_type": "display_data"
    },
    {
     "data": {
      "text/html": [
       "<pre style=\"white-space:pre;overflow-x:auto;line-height:normal;font-family:Menlo,'DejaVu Sans Mono',consolas,'Courier New',monospace\">\n",
       "</pre>\n"
      ],
      "text/plain": [
       "\n"
      ]
     },
     "metadata": {},
     "output_type": "display_data"
    },
    {
     "name": "stdout",
     "output_type": "stream",
     "text": [
      "2.961152986685435\n"
     ]
    }
   ],
   "source": [
    "samp = \"bkg_2018_Top\"\n",
    "test = Skimmer(f\"{samp}.json\")\n",
    "t1 = time.time()\n",
    "out = test.process(execr='futures')\n",
    "t2 = time.time()\n",
    "print((t2-t1)/60)\n",
    "write_h5(out[0],f\"{samp}{suffix}.h5\")\n",
    "del out, test"
   ]
  },
  {
   "cell_type": "code",
   "execution_count": 11,
   "id": "778c0b75-af2f-40a9-a042-d049d7eb3a95",
   "metadata": {},
   "outputs": [
    {
     "data": {
      "text/html": [
       "<pre style=\"white-space:pre;overflow-x:auto;line-height:normal;font-family:Menlo,'DejaVu Sans Mono',consolas,'Courier New',monospace\">     <span style=\"color: #000080; text-decoration-color: #000080; font-weight: bold\">Processing</span> <span style=\"color: #800080; text-decoration-color: #800080\">100%</span> <span style=\"color: #729c1f; text-decoration-color: #729c1f\">━━━━━━━━━━━━━━━━━━━━━━━━━━━━━━━━━━━━━━━━━━━━━━━━━━━━━</span> <span style=\"color: #000080; text-decoration-color: #000080; font-weight: bold\">4/4</span> [ <span style=\"color: #808000; text-decoration-color: #808000\">0:00:04</span> &lt; <span style=\"color: #008080; text-decoration-color: #008080\">0:00:00</span> | <span style=\"color: #800000; text-decoration-color: #800000\">2.4</span>  <span style=\"color: #800000; text-decoration-color: #800000\">chunk/s</span> ]\n",
       "<span style=\"color: #000080; text-decoration-color: #000080; font-weight: bold\">Merging (local)</span> <span style=\"color: #800080; text-decoration-color: #800080\">100%</span> <span style=\"color: #729c1f; text-decoration-color: #729c1f\">━━━━━━━━━━━━━━━━━━━━━━━━━━━━━━━━━━━━━━━━━━━━━━━━━━━━━</span> <span style=\"color: #000080; text-decoration-color: #000080; font-weight: bold\">4/4</span> [ <span style=\"color: #808000; text-decoration-color: #808000\">0:00:04</span> &lt; <span style=\"color: #008080; text-decoration-color: #008080\">0:00:00</span> | <span style=\"color: #800000; text-decoration-color: #800000\">?  </span> <span style=\"color: #800000; text-decoration-color: #800000\">merges/s</span> ]\n",
       "</pre>\n"
      ],
      "text/plain": [
       "     \u001b[1;34mProcessing\u001b[0m \u001b[35m100%\u001b[0m \u001b[38;2;114;156;31m━━━━━━━━━━━━━━━━━━━━━━━━━━━━━━━━━━━━━━━━━━━━━━━━━━━━━\u001b[0m \u001b[1;34m4/4\u001b[0m [ \u001b[33m0:00:04\u001b[0m < \u001b[36m0:00:00\u001b[0m | \u001b[31m2.4\u001b[0m  \u001b[31mchunk/s\u001b[0m ]\n",
       "\u001b[1;34mMerging (local)\u001b[0m \u001b[35m100%\u001b[0m \u001b[38;2;114;156;31m━━━━━━━━━━━━━━━━━━━━━━━━━━━━━━━━━━━━━━━━━━━━━━━━━━━━━\u001b[0m \u001b[1;34m4/4\u001b[0m [ \u001b[33m0:00:04\u001b[0m < \u001b[36m0:00:00\u001b[0m | \u001b[31m?  \u001b[0m \u001b[31mmerges/s\u001b[0m ]\n"
      ]
     },
     "metadata": {},
     "output_type": "display_data"
    },
    {
     "data": {
      "text/html": [
       "<pre style=\"white-space:pre;overflow-x:auto;line-height:normal;font-family:Menlo,'DejaVu Sans Mono',consolas,'Courier New',monospace\"></pre>\n"
      ],
      "text/plain": []
     },
     "metadata": {},
     "output_type": "display_data"
    },
    {
     "data": {
      "text/html": [
       "<pre style=\"white-space:pre;overflow-x:auto;line-height:normal;font-family:Menlo,'DejaVu Sans Mono',consolas,'Courier New',monospace\">\n",
       "</pre>\n"
      ],
      "text/plain": [
       "\n"
      ]
     },
     "metadata": {},
     "output_type": "display_data"
    },
    {
     "name": "stdout",
     "output_type": "stream",
     "text": [
      "0.09426319201787313\n"
     ]
    }
   ],
   "source": [
    "samp = \"bkg_2018_Triboson\"\n",
    "test = Skimmer(f\"{samp}.json\")\n",
    "t1 = time.time()\n",
    "out = test.process(execr='futures')\n",
    "t2 = time.time()\n",
    "print((t2-t1)/60)\n",
    "write_h5(out[0],f\"{samp}{suffix}.h5\")\n",
    "del out, test"
   ]
  },
  {
   "cell_type": "code",
   "execution_count": 12,
   "id": "fa3bce3e-d4ba-4f78-aeb5-d4caa1c3184f",
   "metadata": {},
   "outputs": [
    {
     "data": {
      "text/html": [
       "<pre style=\"white-space:pre;overflow-x:auto;line-height:normal;font-family:Menlo,'DejaVu Sans Mono',consolas,'Courier New',monospace\">     <span style=\"color: #000080; text-decoration-color: #000080; font-weight: bold\">Processing</span> <span style=\"color: #800080; text-decoration-color: #800080\">100%</span> <span style=\"color: #729c1f; text-decoration-color: #729c1f\">━━━━━━━━━━━━━━━━━━━━━━━━━━━━━━━━━━━━━━━━━━━━━━━━━━━</span> <span style=\"color: #000080; text-decoration-color: #000080; font-weight: bold\">42/42</span> [ <span style=\"color: #808000; text-decoration-color: #808000\">0:02:20</span> &lt; <span style=\"color: #008080; text-decoration-color: #008080\">0:00:00</span> | <span style=\"color: #800000; text-decoration-color: #800000\">0.4</span>  <span style=\"color: #800000; text-decoration-color: #800000\">chunk/s</span> ]\n",
       "<span style=\"color: #000080; text-decoration-color: #000080; font-weight: bold\">Merging (local)</span> <span style=\"color: #800080; text-decoration-color: #800080\">100%</span> <span style=\"color: #729c1f; text-decoration-color: #729c1f\">━━━━━━━━━━━━━━━━━━━━━━━━━━━━━━━━━━━━━━━━━━━━━━━━━━━</span> <span style=\"color: #000080; text-decoration-color: #000080; font-weight: bold\">42/42</span> [ <span style=\"color: #808000; text-decoration-color: #808000\">0:02:20</span> &lt; <span style=\"color: #008080; text-decoration-color: #008080\">0:00:00</span> | <span style=\"color: #800000; text-decoration-color: #800000\">?  </span> <span style=\"color: #800000; text-decoration-color: #800000\">merges/s</span> ]\n",
       "</pre>\n"
      ],
      "text/plain": [
       "     \u001b[1;34mProcessing\u001b[0m \u001b[35m100%\u001b[0m \u001b[38;2;114;156;31m━━━━━━━━━━━━━━━━━━━━━━━━━━━━━━━━━━━━━━━━━━━━━━━━━━━\u001b[0m \u001b[1;34m42/42\u001b[0m [ \u001b[33m0:02:20\u001b[0m < \u001b[36m0:00:00\u001b[0m | \u001b[31m0.4\u001b[0m  \u001b[31mchunk/s\u001b[0m ]\n",
       "\u001b[1;34mMerging (local)\u001b[0m \u001b[35m100%\u001b[0m \u001b[38;2;114;156;31m━━━━━━━━━━━━━━━━━━━━━━━━━━━━━━━━━━━━━━━━━━━━━━━━━━━\u001b[0m \u001b[1;34m42/42\u001b[0m [ \u001b[33m0:02:20\u001b[0m < \u001b[36m0:00:00\u001b[0m | \u001b[31m?  \u001b[0m \u001b[31mmerges/s\u001b[0m ]\n"
      ]
     },
     "metadata": {},
     "output_type": "display_data"
    },
    {
     "data": {
      "text/html": [
       "<pre style=\"white-space:pre;overflow-x:auto;line-height:normal;font-family:Menlo,'DejaVu Sans Mono',consolas,'Courier New',monospace\"></pre>\n"
      ],
      "text/plain": []
     },
     "metadata": {},
     "output_type": "display_data"
    },
    {
     "data": {
      "text/html": [
       "<pre style=\"white-space:pre;overflow-x:auto;line-height:normal;font-family:Menlo,'DejaVu Sans Mono',consolas,'Courier New',monospace\">\n",
       "</pre>\n"
      ],
      "text/plain": [
       "\n"
      ]
     },
     "metadata": {},
     "output_type": "display_data"
    },
    {
     "name": "stdout",
     "output_type": "stream",
     "text": [
      "2.4429720560709636\n"
     ]
    }
   ],
   "source": [
    "samp = \"bkg_2018_WJets\"\n",
    "test = Skimmer(f\"{samp}.json\")\n",
    "t1 = time.time()\n",
    "out = test.process(execr='futures')\n",
    "t2 = time.time()\n",
    "print((t2-t1)/60)\n",
    "write_h5(out[0],f\"{samp}{suffix}.h5\")\n",
    "del out, test"
   ]
  },
  {
   "cell_type": "code",
   "execution_count": 13,
   "id": "7a92560a-f99b-4f73-a54e-cd8be3bac090",
   "metadata": {},
   "outputs": [
    {
     "data": {
      "text/html": [
       "<pre style=\"white-space:pre;overflow-x:auto;line-height:normal;font-family:Menlo,'DejaVu Sans Mono',consolas,'Courier New',monospace\">     <span style=\"color: #000080; text-decoration-color: #000080; font-weight: bold\">Processing</span> <span style=\"color: #800080; text-decoration-color: #800080\">100%</span> <span style=\"color: #729c1f; text-decoration-color: #729c1f\">━━━━━━━━━━━━━━━━━━━━━━━━━━━━━━━━━━━━━━━━━━━━━━━━━━━</span> <span style=\"color: #000080; text-decoration-color: #000080; font-weight: bold\">22/22</span> [ <span style=\"color: #808000; text-decoration-color: #808000\">0:02:11</span> &lt; <span style=\"color: #008080; text-decoration-color: #008080\">0:00:00</span> | <span style=\"color: #800000; text-decoration-color: #800000\">0.2</span>  <span style=\"color: #800000; text-decoration-color: #800000\">chunk/s</span> ]\n",
       "<span style=\"color: #000080; text-decoration-color: #000080; font-weight: bold\">Merging (local)</span> <span style=\"color: #800080; text-decoration-color: #800080\">100%</span> <span style=\"color: #729c1f; text-decoration-color: #729c1f\">━━━━━━━━━━━━━━━━━━━━━━━━━━━━━━━━━━━━━━━━━━━━━━━━━━━</span> <span style=\"color: #000080; text-decoration-color: #000080; font-weight: bold\">22/22</span> [ <span style=\"color: #808000; text-decoration-color: #808000\">0:02:11</span> &lt; <span style=\"color: #008080; text-decoration-color: #008080\">0:00:00</span> | <span style=\"color: #800000; text-decoration-color: #800000\">?  </span> <span style=\"color: #800000; text-decoration-color: #800000\">merges/s</span> ]\n",
       "</pre>\n"
      ],
      "text/plain": [
       "     \u001b[1;34mProcessing\u001b[0m \u001b[35m100%\u001b[0m \u001b[38;2;114;156;31m━━━━━━━━━━━━━━━━━━━━━━━━━━━━━━━━━━━━━━━━━━━━━━━━━━━\u001b[0m \u001b[1;34m22/22\u001b[0m [ \u001b[33m0:02:11\u001b[0m < \u001b[36m0:00:00\u001b[0m | \u001b[31m0.2\u001b[0m  \u001b[31mchunk/s\u001b[0m ]\n",
       "\u001b[1;34mMerging (local)\u001b[0m \u001b[35m100%\u001b[0m \u001b[38;2;114;156;31m━━━━━━━━━━━━━━━━━━━━━━━━━━━━━━━━━━━━━━━━━━━━━━━━━━━\u001b[0m \u001b[1;34m22/22\u001b[0m [ \u001b[33m0:02:11\u001b[0m < \u001b[36m0:00:00\u001b[0m | \u001b[31m?  \u001b[0m \u001b[31mmerges/s\u001b[0m ]\n"
      ]
     },
     "metadata": {},
     "output_type": "display_data"
    },
    {
     "data": {
      "text/html": [
       "<pre style=\"white-space:pre;overflow-x:auto;line-height:normal;font-family:Menlo,'DejaVu Sans Mono',consolas,'Courier New',monospace\"></pre>\n"
      ],
      "text/plain": []
     },
     "metadata": {},
     "output_type": "display_data"
    },
    {
     "data": {
      "text/html": [
       "<pre style=\"white-space:pre;overflow-x:auto;line-height:normal;font-family:Menlo,'DejaVu Sans Mono',consolas,'Courier New',monospace\">\n",
       "</pre>\n"
      ],
      "text/plain": [
       "\n"
      ]
     },
     "metadata": {},
     "output_type": "display_data"
    },
    {
     "name": "stdout",
     "output_type": "stream",
     "text": [
      "2.258535166581472\n"
     ]
    }
   ],
   "source": [
    "samp = \"bkg_2018_ZJets\"\n",
    "test = Skimmer(f\"{samp}.json\")\n",
    "t1 = time.time()\n",
    "out = test.process(execr='futures')\n",
    "t2 = time.time()\n",
    "print((t2-t1)/60)\n",
    "write_h5(out[0],f\"{samp}{suffix}.h5\")\n",
    "del out, test"
   ]
  },
  {
   "cell_type": "code",
   "execution_count": null,
   "id": "f1d0e739-0a31-4806-b976-0eaf0cca6ea8",
   "metadata": {},
   "outputs": [],
   "source": []
  }
 ],
 "metadata": {
  "kernelspec": {
   "display_name": "Python [conda env:coffea2]",
   "language": "python",
   "name": "conda-env-coffea2-py"
  },
  "language_info": {
   "codemirror_mode": {
    "name": "ipython",
    "version": 3
   },
   "file_extension": ".py",
   "mimetype": "text/x-python",
   "name": "python",
   "nbconvert_exporter": "python",
   "pygments_lexer": "ipython3",
   "version": "3.8.17"
  }
 },
 "nbformat": 4,
 "nbformat_minor": 5
}
