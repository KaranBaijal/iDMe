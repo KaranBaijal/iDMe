{
 "cells": [
  {
   "cell_type": "code",
   "execution_count": 1,
   "id": "260cca87-4f60-4cc5-9516-8a534281b326",
   "metadata": {},
   "outputs": [],
   "source": [
    "import numpy as np\n",
    "import matplotlib.pyplot as plt\n",
    "import uproot\n",
    "import awkward as ak"
   ]
  },
  {
   "cell_type": "markdown",
   "id": "60019d19-ea70-4e92-bd8f-e4f2d8ae7a2a",
   "metadata": {},
   "source": [
    "Investigating the cuts used to select isoTracks and Photons for use in dilepton reco. \n",
    "**All studies performed with ~1.3k events from Mchi = 48, dMchi = 16, ct = 10 sample**\n",
    "### Cuts attempted:\n",
    "- v0: Nothing above defaults (see notes for details)\n",
    "    - Only 560 photons total\n",
    "- v1: reduced photon ET cut from 3 GeV to 1 GeV\n",
    "    - No effect -- got the same number of photons before/after\n",
    "- v2: No ET cut at all\n",
    "    - Again, no effect\n",
    "- v3: ET cut back to 3 GeV, increase H/E to H/E < 0.2 (from 0.05)\n",
    "    - No effect\n",
    "- v4: No H/E cut at all\n",
    "    - Number increased from 560 to 912, decent amount in the ET < 40 GeV range\n",
    "- v5: No H/E or ET cuts\n",
    "    "
   ]
  },
  {
   "cell_type": "code",
   "execution_count": 3,
   "id": "9d27c69f-afd3-4467-ac37-28ab22280c64",
   "metadata": {},
   "outputs": [],
   "source": [
    "f0 = \"files/test_m48_ct10_v0.root\"\n",
    "f1 = \"files/test_m48_ct10_v1.root\"\n",
    "f2 = \"files/test_m48_ct10_v2.root\"\n",
    "f3 = \"files/test_m48_ct10_v3.root\"\n",
    "f4 = \"files/test_m48_ct10_v4.root\"\n",
    "t0 = uproot.open(f0)['ntuples/outT']\n",
    "t1 = uproot.open(f1)['ntuples/outT']\n",
    "t2 = uproot.open(f2)['ntuples/outT']\n",
    "t3 = uproot.open(f3)['ntuples/outT']\n",
    "t4 = uproot.open(f4)['ntuples/outT']"
   ]
  },
  {
   "cell_type": "code",
   "execution_count": 4,
   "id": "b645e856-7b26-43f0-899e-5f8cb57fab48",
   "metadata": {},
   "outputs": [
    {
     "name": "stdout",
     "output_type": "stream",
     "text": [
      "nPhotons default = 560\n",
      "nPhotons v1 = 560\n",
      "nPhotons v2 = 560\n",
      "nPhotons v3 = 560\n",
      "nPhotons v4 = 912\n"
     ]
    },
    {
     "data": {
      "text/plain": [
       "(5.0, 40.0)"
      ]
     },
     "execution_count": 4,
     "metadata": {},
     "output_type": "execute_result"
    },
    {
     "data": {
      "image/png": "[encoded data removed]",
      "text/plain": [
       "<Figure size 720x576 with 1 Axes>"
      ]
     },
     "metadata": {
      "needs_background": "light"
     },
     "output_type": "display_data"
    }
   ],
   "source": [
    "ph_et0 = ak.flatten(t0[\"PhotonSel_et\"].array())\n",
    "ph_et1 = ak.flatten(t1[\"PhotonSel_et\"].array())\n",
    "ph_et2 = ak.flatten(t2[\"PhotonSel_et\"].array())\n",
    "ph_et3 = ak.flatten(t3[\"PhotonSel_et\"].array())\n",
    "ph_et4 = ak.flatten(t4[\"PhotonSel_et\"].array())\n",
    "print(\"nPhotons default = {0}\".format(len(ph_et0)))\n",
    "print(\"nPhotons v1 = {0}\".format(len(ph_et1)))\n",
    "print(\"nPhotons v2 = {0}\".format(len(ph_et2)))\n",
    "print(\"nPhotons v3 = {0}\".format(len(ph_et2)))\n",
    "print(\"nPhotons v4 = {0}\".format(len(ph_et4)))\n",
    "plt.figure(2,(10,8))\n",
    "h0 = plt.hist(ph_et0,bins=np.linspace(0,50,51),histtype='step')\n",
    "h1 = plt.hist(ph_et1,bins=np.linspace(0,50,51),histtype='step')\n",
    "h2 = plt.hist(ph_et2,bins=np.linspace(0,50,51),histtype='step')\n",
    "h3 = plt.hist(ph_et3,bins=np.linspace(0,50,51),histtype='step')\n",
    "h4 = plt.hist(ph_et4,bins=np.linspace(0,50,51),histtype='step')\n",
    "\n",
    "plt.xlim([5,40])"
   ]
  },
  {
   "cell_type": "code",
   "execution_count": 23,
   "id": "9160082b-7c24-4078-951d-a29ae2bd500b",
   "metadata": {},
   "outputs": [
    {
     "name": "stdout",
     "output_type": "stream",
     "text": [
      "nTracks default = 782\n",
      "nTracks v1 = 782\n"
     ]
    },
    {
     "data": {
      "image/png": "[encoded data removed]",
      "text/plain": [
       "<Figure size 720x576 with 1 Axes>"
      ]
     },
     "metadata": {
      "needs_background": "light"
     },
     "output_type": "display_data"
    }
   ],
   "source": [
    "it_pt0 = ak.flatten(t0[\"IsoTrackSel_pt\"].array())\n",
    "it_pt1 = ak.flatten(t1[\"IsoTrackSel_pt\"].array())\n",
    "it_pt2 = ak.flatten(t2[\"IsoTrackSel_pt\"].array())\n",
    "print(\"nTracks default = {0}\".format(len(it_pt0)))\n",
    "print(\"nTracks v1 = {0}\".format(len(it_pt1)))\n",
    "print(\"nTracks v2 = {0}\".format(len(it_pt2)))\n",
    "plt.figure(1,(10,8))\n",
    "h0 = plt.hist(it_pt0,bins=np.linspace(0,50,100))\n",
    "h1 = plt.hist(it_pt1,bins=np.linspace(0,50,100))\n",
    "h2 = plt.hist(it_pt2,bins=np.linspace(0,50,100))"
   ]
  },
  {
   "cell_type": "code",
   "execution_count": null,
   "id": "089daa8f-2a0d-4837-ae78-f907353d8a48",
   "metadata": {},
   "outputs": [],
   "source": []
  }
 ],
 "metadata": {
  "kernelspec": {
   "display_name": "Python [conda env:coffea]",
   "language": "python",
   "name": "conda-env-coffea-py"
  },
  "language_info": {
   "codemirror_mode": {
    "name": "ipython",
    "version": 3
   },
   "file_extension": ".py",
   "mimetype": "text/x-python",
   "name": "python",
   "nbconvert_exporter": "python",
   "pygments_lexer": "ipython3",
   "version": "3.8.11"
  }
 },
 "nbformat": 4,
 "nbformat_minor": 5
}
