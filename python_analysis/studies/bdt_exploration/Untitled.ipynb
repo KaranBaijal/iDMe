{
 "cells": [
  {
   "cell_type": "code",
   "execution_count": 24,
   "id": "0e849d9f-41a9-489d-96eb-5b1652d26453",
   "metadata": {},
   "outputs": [],
   "source": [
    "import uproot\n",
    "import numpy as np\n",
    "import matplotlib.pyplot as plt\n",
    "from coffea.nanoevents import NanoEventsFactory, NanoAODSchema, BaseSchema\n",
    "import coffea\n",
    "import json\n",
    "import awkward as ak"
   ]
  },
  {
   "cell_type": "code",
   "execution_count": 3,
   "id": "96cb32d1-5317-429d-93cc-738a2ffe52ff",
   "metadata": {},
   "outputs": [],
   "source": [
    "with open(\"../../configs/sample_configs/signal_2018_aEM.json\",\"r\") as f:\n",
    "    d = json.load(f)"
   ]
  },
  {
   "cell_type": "code",
   "execution_count": 6,
   "id": "04f3dba2-1be6-42c4-9035-cd33eb6040b2",
   "metadata": {},
   "outputs": [],
   "source": [
    "names = [s['name'] for s in d]\n",
    "samples = [f'sig_Mchi-42.0_dMchi-4.0_ct-{ct}' for ct in [1,10,100,100]]\n",
    "toLoad = [s "
   ]
  }
 ],
 "metadata": {
  "kernelspec": {
   "display_name": "Python [conda env:coffea]",
   "language": "python",
   "name": "conda-env-coffea-py"
  },
  "language_info": {
   "codemirror_mode": {
    "name": "ipython",
    "version": 3
   },
   "file_extension": ".py",
   "mimetype": "text/x-python",
   "name": "python",
   "nbconvert_exporter": "python",
   "pygments_lexer": "ipython3",
   "version": "3.8.15"
  }
 },
 "nbformat": 4,
 "nbformat_minor": 5
}
