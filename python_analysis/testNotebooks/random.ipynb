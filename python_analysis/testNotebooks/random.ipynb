{
 "cells": [
  {
   "cell_type": "code",
   "execution_count": 1,
   "id": "d003fbbc-a797-498e-8a45-4f1eb72f847c",
   "metadata": {},
   "outputs": [],
   "source": [
    "import uproot\n",
    "import numpy as np\n",
    "import matplotlib.pyplot as plt\n",
    "import awkward as ak\n",
    "import sys\n",
    "import coffea.hist as hist\n",
    "sys.path.append(\"/uscms/home/sbrightt/nobackup/iDM/iDMe_analysis/CMSSW_10_6_26/src/iDMeAnalysis/python_analysis/analysisTools/\")\n",
    "from analysisTools import loadNano\n",
    "from analysisTools import fileAnalyzer\n",
    "import analysisSubroutines as routines\n",
    "import importlib\n",
    "import coffea.hist as hist\n",
    "import time"
   ]
  },
  {
   "cell_type": "code",
   "execution_count": 2,
   "id": "98e33e4b-1c3d-4967-a871-29f4a5e953a1",
   "metadata": {},
   "outputs": [
    {
     "data": {
      "application/vnd.jupyter.widget-view+json": {
       "model_id": "f65db47b35dc459482875ffd380fa767",
       "version_major": 2,
       "version_minor": 0
      },
      "text/plain": [
       "Preprocessing:   0%|          | 0/6 [00:00<?, ?file/s]"
      ]
     },
     "metadata": {},
     "output_type": "display_data"
    },
    {
     "data": {
      "application/vnd.jupyter.widget-view+json": {
       "model_id": "175e6707b16b44ba8180fb2ee5e4c600",
       "version_major": 2,
       "version_minor": 0
      },
      "text/plain": [
       "Processing:   0%|          | 0/6 [00:00<?, ?chunk/s]"
      ]
     },
     "metadata": {},
     "output_type": "display_data"
    },
    {
     "name": "stdout",
     "output_type": "stream",
     "text": [
      "0.501961863040924\n"
     ]
    }
   ],
   "source": [
    "file = \"root://cmsxrootd.fnal.gov//store/group/lpcmetx/iDMe//Samples/Ntuples/signal/2018/Mchi-120p0_dMchi-40p0/ctau-1/ntuples_Mchi-120p0_dMchi-40p0_ctau-1_00.root\"\n",
    "files = [\"ntuples_Mchi-120p0_dMchi-40p0_ctau-1_00.root\",\"ntuples_Mchi-120p0_dMchi-40p0_ctau-1_01.root\",\"ntuples_Mchi-120p0_dMchi-40p0_ctau-1_02.root\",\"ntuples_Mchi-120p0_dMchi-40p0_ctau-1_03.root\",\"ntuples_Mchi-120p0_dMchi-40p0_ctau-1_04.root\",\"ntuples_Mchi-120p0_dMchi-40p0_ctau-1_05.root\"]\n",
    "files = [\"root://cmsxrootd.fnal.gov//store/group/lpcmetx/iDMe//Samples/Ntuples/signal/2018/Mchi-120p0_dMchi-40p0/ctau-1/\"+f for f in files]\n",
    "az = fileAnalyzer(files,\"test\",\"/uscms/home/sbrightt/nobackup/iDM/iDMe_analysis/CMSSW_10_6_26/src/iDMeAnalysis/python_analysis/configs/histo_configs/histoList.json\")\n",
    "t1 = time.time()\n",
    "histos = az.process()\n",
    "t2 = time.time()\n",
    "print((t2-t1)/60)"
   ]
  }
 ],
 "metadata": {
  "kernelspec": {
   "display_name": "Python [conda env:coffea]",
   "language": "python",
   "name": "conda-env-coffea-py"
  },
  "language_info": {
   "codemirror_mode": {
    "name": "ipython",
    "version": 3
   },
   "file_extension": ".py",
   "mimetype": "text/x-python",
   "name": "python",
   "nbconvert_exporter": "python",
   "pygments_lexer": "ipython3",
   "version": "3.8.11"
  }
 },
 "nbformat": 4,
 "nbformat_minor": 5
}
