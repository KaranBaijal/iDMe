{
 "cells": [
  {
   "cell_type": "code",
   "execution_count": 4,
   "id": "d003fbbc-a797-498e-8a45-4f1eb72f847c",
   "metadata": {},
   "outputs": [],
   "source": [
    "import uproot\n",
    "import numpy as np\n",
    "import matplotlib.pyplot as plt\n",
    "import awkward as ak"
   ]
  },
  {
   "cell_type": "code",
   "execution_count": 23,
   "id": "458bb4b0-d769-426a-852a-ebba043e52fd",
   "metadata": {},
   "outputs": [
    {
     "data": {
      "text/plain": [
       "array([57.1221    , -2.365874  ,  0.9069322 , ..., 14.59915   ,\n",
       "       -1.2534449 ,  0.15171765], dtype=float32)"
      ]
     },
     "execution_count": 23,
     "metadata": {},
     "output_type": "execute_result"
    }
   ],
   "source": [
    "f1 = \"/uscms_data/d3/sbrightt/iDM/iDMe_analysis/CMSSW_10_6_26/src/iDMeAnalysis/AODSkimmer/test_output.root\"\n",
    "t1 = uproot.open(f1)['ntuples/outT']\n",
    "ph_et = ak.flatten(t1['Photon_et'].array()).to_numpy()\n",
    "ph_et "
   ]
  },
  {
   "cell_type": "code",
   "execution_count": 24,
   "id": "82ef4b4b-ef65-4330-86aa-a4c1b637620d",
   "metadata": {},
   "outputs": [
    {
     "data": {
      "image/png": "[encoded data removed]",
      "text/plain": [
       "<Figure size 432x288 with 1 Axes>"
      ]
     },
     "metadata": {
      "needs_background": "light"
     },
     "output_type": "display_data"
    }
   ],
   "source": [
    "test = plt.hist(ph_et,bins=np.linspace(0,5,100))"
   ]
  },
  {
   "cell_type": "code",
   "execution_count": 26,
   "id": "a70fdf01-a94f-4836-954b-3338ed533a76",
   "metadata": {},
   "outputs": [
    {
     "data": {
      "image/png": "[encoded data removed]",
      "text/plain": [
       "<Figure size 432x288 with 1 Axes>"
      ]
     },
     "metadata": {
      "needs_background": "light"
     },
     "output_type": "display_data"
    }
   ],
   "source": [
    "nEEcand = t1['nEECand'].array()\n",
    "hist = plt.hist(nEEcand)\n",
    "plt.yscale('log')"
   ]
  },
  {
   "cell_type": "code",
   "execution_count": null,
   "id": "18cc6401-9bcd-498c-b9ae-8d0103be5b61",
   "metadata": {},
   "outputs": [],
   "source": []
  }
 ],
 "metadata": {
  "kernelspec": {
   "display_name": "Python [conda env:coffea]",
   "language": "python",
   "name": "conda-env-coffea-py"
  },
  "language_info": {
   "codemirror_mode": {
    "name": "ipython",
    "version": 3
   },
   "file_extension": ".py",
   "mimetype": "text/x-python",
   "name": "python",
   "nbconvert_exporter": "python",
   "pygments_lexer": "ipython3",
   "version": "3.8.11"
  }
 },
 "nbformat": 4,
 "nbformat_minor": 5
}
