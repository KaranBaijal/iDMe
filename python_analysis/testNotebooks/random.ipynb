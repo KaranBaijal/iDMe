{
 "cells": [
  {
   "cell_type": "code",
   "execution_count": 3,
   "id": "d003fbbc-a797-498e-8a45-4f1eb72f847c",
   "metadata": {},
   "outputs": [],
   "source": [
    "import uproot\n",
    "import numpy as np\n",
    "import matplotlib.pyplot as plt\n",
    "import awkward as ak\n",
    "import sys\n",
    "import coffea.hist as hist\n",
    "sys.path.append(\"/uscms/home/sbrightt/nobackup/iDM/iDMe_analysis/CMSSW_10_6_26/src/iDMeAnalysis/python_analysis/analysisTools/\")\n",
    "from analysisTools import loadNano\n",
    "from analysisTools import fileAnalyzer\n",
    "import analysisSubroutines as routines\n",
    "import importlib\n",
    "import coffea.hist as hist\n",
    "import time"
   ]
  },
  {
   "cell_type": "code",
   "execution_count": 2,
   "id": "98e33e4b-1c3d-4967-a871-29f4a5e953a1",
   "metadata": {
    "tags": []
   },
   "outputs": [
    {
     "data": {
      "application/vnd.jupyter.widget-view+json": {
       "model_id": "a1f5782bb82145eb8b8ab69a53c30044",
       "version_major": 2,
       "version_minor": 0
      },
      "text/plain": [
       "Preprocessing:   0%|          | 0/1 [00:00<?, ?file/s]"
      ]
     },
     "metadata": {},
     "output_type": "display_data"
    },
    {
     "data": {
      "application/vnd.jupyter.widget-view+json": {
       "model_id": "86cf51f715e54680acde68cae9679161",
       "version_major": 2,
       "version_minor": 0
      },
      "text/plain": [
       "Processing:   0%|          | 0/1 [00:00<?, ?chunk/s]"
      ]
     },
     "metadata": {},
     "output_type": "display_data"
    },
    {
     "name": "stdout",
     "output_type": "stream",
     "text": [
      "0.03888244231541951\n"
     ]
    }
   ],
   "source": [
    "file=\"/uscms_data/d3/sbrightt/iDM/iDMe_analysis/CMSSW_10_6_26/src/iDMeAnalysis/AODSkimmer/test_output.root\"\n",
    "#files = [\"ntuples_Mchi-120p0_dMchi-40p0_ctau-1_00.root\",\"ntuples_Mchi-120p0_dMchi-40p0_ctau-1_01.root\",\"ntuples_Mchi-120p0_dMchi-40p0_ctau-1_02.root\",\"ntuples_Mchi-120p0_dMchi-40p0_ctau-1_03.root\",\"ntuples_Mchi-120p0_dMchi-40p0_ctau-1_04.root\",\"ntuples_Mchi-120p0_dMchi-40p0_ctau-1_05.root\"]\n",
    "#files = [\"root://cmsxrootd.fnal.gov//store/group/lpcmetx/iDMe//Samples/Ntuples/signal/2018/Mchi-120p0_dMchi-40p0/ctau-1/\"+f for f in files]\n",
    "az = fileAnalyzer(file,\"test\",\"/uscms/home/sbrightt/nobackup/iDM/iDMe_analysis/CMSSW_10_6_26/src/iDMeAnalysis/python_analysis/configs/histo_configs/histoList.json\")\n",
    "t1 = time.time()\n",
    "histos = az.process()\n",
    "t2 = time.time()\n",
    "print((t2-t1)/60)"
   ]
  },
  {
   "cell_type": "code",
   "execution_count": 2,
   "id": "efb2470e-b2ff-4a6f-8c05-59c3eb17f72a",
   "metadata": {},
   "outputs": [],
   "source": [
    "file=\"/uscms_data/d3/sbrightt/iDM/iDMe_analysis/CMSSW_10_6_26/src/iDMeAnalysis/AODSkimmer/test_output.root\"\n",
    "events=loadNano(file,\"outT\")"
   ]
  },
  {
   "cell_type": "code",
   "execution_count": 10,
   "id": "2952c48f-fc2e-4377-87e6-0c3872836e6f",
   "metadata": {},
   "outputs": [
    {
     "data": {
      "text/plain": [
       "['Ixy',\n",
       " 'Lxy',\n",
       " 'PVAssociation',\n",
       " 'cosAlpha',\n",
       " 'dPhi',\n",
       " 'fromPVA',\n",
       " 'fromPVB',\n",
       " 'leadingEt',\n",
       " 'leadingPt',\n",
       " 'mass',\n",
       " 'maxIxy',\n",
       " 'normalizedChi2',\n",
       " 'relisoA',\n",
       " 'relisoB',\n",
       " 'subleadingEt',\n",
       " 'subleadingPt',\n",
       " 'trackDxy',\n",
       " 'trackIxy',\n",
       " 'vx',\n",
       " 'vy']"
      ]
     },
     "execution_count": 10,
     "metadata": {},
     "output_type": "execute_result"
    }
   ],
   "source": [
    "events.dispEE.fields"
   ]
  },
  {
   "cell_type": "code",
   "execution_count": null,
   "id": "dc4a112d-5b37-4f77-a4ad-208121403baf",
   "metadata": {},
   "outputs": [],
   "source": []
  },
  {
   "cell_type": "code",
   "execution_count": null,
   "id": "13e9790f-84ed-4b22-ad55-a173b3054669",
   "metadata": {},
   "outputs": [],
   "source": []
  }
 ],
 "metadata": {
  "kernelspec": {
   "display_name": "Python [conda env:coffea]",
   "language": "python",
   "name": "conda-env-coffea-py"
  },
  "language_info": {
   "codemirror_mode": {
    "name": "ipython",
    "version": 3
   },
   "file_extension": ".py",
   "mimetype": "text/x-python",
   "name": "python",
   "nbconvert_exporter": "python",
   "pygments_lexer": "ipython3",
   "version": "3.8.11"
  }
 },
 "nbformat": 4,
 "nbformat_minor": 5
}
