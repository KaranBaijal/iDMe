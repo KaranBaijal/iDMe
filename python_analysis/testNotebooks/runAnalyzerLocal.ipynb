{
 "cells": [
  {
   "cell_type": "code",
   "execution_count": 1,
   "id": "f0b76018-ac07-4cf4-af55-bc9f9ea9ba3e",
   "metadata": {},
   "outputs": [],
   "source": [
    "import uproot\n",
    "import numpy as np\n",
    "import matplotlib.pyplot as plt\n",
    "import awkward as ak\n",
    "import sys\n",
    "import coffea.hist as hist\n",
    "sys.path.append(\"/uscms/home/sbrightt/nobackup/iDM/iDMe_analysis/CMSSW_10_6_26/src/iDMeAnalysis/python_analysis/analysisTools/\")\n",
    "from analysisTools import Analyzer\n",
    "from analysisTools import loadNano\n",
    "import analysisSubroutines as routines\n",
    "import importlib\n",
    "import coffea.hist as hist\n",
    "import coffea.util as util\n",
    "import time"
   ]
  },
  {
   "cell_type": "code",
   "execution_count": 2,
   "id": "cc9df976-988f-4b4b-98f9-ffbe2fbdca6f",
   "metadata": {},
   "outputs": [],
   "source": [
    "location = \"/uscms/home/sbrightt/nobackup/iDM/iDMe_analysis/CMSSW_10_6_26/src/iDMeAnalysis/python_analysis/condor/submissions/\"\n",
    "subsamples = [\"signal_2018_aEM_histoList_{0}\".format(k) for k in range(7)]\n",
    "jsons = [location+s+'/samples.json' for s in subsamples]\n",
    "histos = \"/uscms_data/d3/sbrightt/iDM/iDMe_analysis/CMSSW_10_6_26/src/iDMeAnalysis/python_analysis/configs/histo_configs/histoList.json\""
   ]
  },
  {
   "cell_type": "code",
   "execution_count": 3,
   "id": "91c6a297-4558-497f-bf03-58c556c1ccf1",
   "metadata": {
    "tags": []
   },
   "outputs": [
    {
     "data": {
      "application/vnd.jupyter.widget-view+json": {
       "model_id": "b496a38f0dcf4d0ea613bb63f4d96fe5",
       "version_major": 2,
       "version_minor": 0
      },
      "text/plain": [
       "Preprocessing:   0%|          | 0/26 [00:00<?, ?file/s]"
      ]
     },
     "metadata": {},
     "output_type": "display_data"
    },
    {
     "data": {
      "application/vnd.jupyter.widget-view+json": {
       "model_id": "c900fa6e277f4f1584e2ce249c7fc6ce",
       "version_major": 2,
       "version_minor": 0
      },
      "text/plain": [
       "Processing:   0%|          | 0/26 [00:00<?, ?chunk/s]"
      ]
     },
     "metadata": {},
     "output_type": "display_data"
    },
    {
     "data": {
      "application/vnd.jupyter.widget-view+json": {
       "model_id": "409e15e4652d451c9874298dbacc0ad5",
       "version_major": 2,
       "version_minor": 0
      },
      "text/plain": [
       "Preprocessing:   0%|          | 0/24 [00:00<?, ?file/s]"
      ]
     },
     "metadata": {},
     "output_type": "display_data"
    },
    {
     "data": {
      "application/vnd.jupyter.widget-view+json": {
       "model_id": "9df6afbbc12b4d268f274b9dccc88b9e",
       "version_major": 2,
       "version_minor": 0
      },
      "text/plain": [
       "Processing:   0%|          | 0/24 [00:00<?, ?chunk/s]"
      ]
     },
     "metadata": {},
     "output_type": "display_data"
    },
    {
     "data": {
      "application/vnd.jupyter.widget-view+json": {
       "model_id": "e4ecb4de125c4f8ab794efac2ac375f0",
       "version_major": 2,
       "version_minor": 0
      },
      "text/plain": [
       "Preprocessing:   0%|          | 0/160 [00:00<?, ?file/s]"
      ]
     },
     "metadata": {},
     "output_type": "display_data"
    },
    {
     "data": {
      "application/vnd.jupyter.widget-view+json": {
       "model_id": "00b3957e66014d1ca31ae3a0bf099691",
       "version_major": 2,
       "version_minor": 0
      },
      "text/plain": [
       "Processing:   0%|          | 0/160 [00:00<?, ?chunk/s]"
      ]
     },
     "metadata": {},
     "output_type": "display_data"
    },
    {
     "data": {
      "application/vnd.jupyter.widget-view+json": {
       "model_id": "9e6e4614de81450e8e6e9ba67d1a9fbb",
       "version_major": 2,
       "version_minor": 0
      },
      "text/plain": [
       "Preprocessing:   0%|          | 0/70 [00:00<?, ?file/s]"
      ]
     },
     "metadata": {},
     "output_type": "display_data"
    },
    {
     "data": {
      "application/vnd.jupyter.widget-view+json": {
       "model_id": "413a440ca08744d0b0cfac2793799f32",
       "version_major": 2,
       "version_minor": 0
      },
      "text/plain": [
       "Processing:   0%|          | 0/70 [00:00<?, ?chunk/s]"
      ]
     },
     "metadata": {},
     "output_type": "display_data"
    },
    {
     "data": {
      "application/vnd.jupyter.widget-view+json": {
       "model_id": "30972913c4a2474fa1224af24ec78653",
       "version_major": 2,
       "version_minor": 0
      },
      "text/plain": [
       "Preprocessing:   0%|          | 0/25 [00:00<?, ?file/s]"
      ]
     },
     "metadata": {},
     "output_type": "display_data"
    },
    {
     "data": {
      "application/vnd.jupyter.widget-view+json": {
       "model_id": "140b3a1325fd4ae6ad345fcb0c081ec8",
       "version_major": 2,
       "version_minor": 0
      },
      "text/plain": [
       "Processing:   0%|          | 0/25 [00:00<?, ?chunk/s]"
      ]
     },
     "metadata": {},
     "output_type": "display_data"
    },
    {
     "data": {
      "application/vnd.jupyter.widget-view+json": {
       "model_id": "5b479ad5189445cd8bae38b9ef67b302",
       "version_major": 2,
       "version_minor": 0
      },
      "text/plain": [
       "Preprocessing:   0%|          | 0/25 [00:00<?, ?file/s]"
      ]
     },
     "metadata": {},
     "output_type": "display_data"
    },
    {
     "data": {
      "application/vnd.jupyter.widget-view+json": {
       "model_id": "a3db10e12d8741d98ab2df4f961fa665",
       "version_major": 2,
       "version_minor": 0
      },
      "text/plain": [
       "Processing:   0%|          | 0/25 [00:00<?, ?chunk/s]"
      ]
     },
     "metadata": {},
     "output_type": "display_data"
    },
    {
     "data": {
      "application/vnd.jupyter.widget-view+json": {
       "model_id": "47799642d1184c65ac2a95bdcf883107",
       "version_major": 2,
       "version_minor": 0
      },
      "text/plain": [
       "Preprocessing:   0%|          | 0/10 [00:00<?, ?file/s]"
      ]
     },
     "metadata": {},
     "output_type": "display_data"
    },
    {
     "data": {
      "application/vnd.jupyter.widget-view+json": {
       "model_id": "e41067ca246c42bb8e4d3d47151da6d2",
       "version_major": 2,
       "version_minor": 0
      },
      "text/plain": [
       "Processing:   0%|          | 0/10 [00:00<?, ?chunk/s]"
      ]
     },
     "metadata": {},
     "output_type": "display_data"
    }
   ],
   "source": [
    "for i, js in enumerate(jsons):\n",
    "    az = Analyzer(js,histos)\n",
    "    s = subsamples[i]\n",
    "    h_out = az.process()\n",
    "    out = \"output_\"+s+\".coffea\"\n",
    "    util.save(h_out,out)"
   ]
  },
  {
   "cell_type": "code",
   "execution_count": 4,
   "id": "c4a2bd66-3901-419a-969f-557bcce0ac9d",
   "metadata": {},
   "outputs": [],
   "source": [
    "events = loadNano(\"root://cmsxrootd.fnal.gov//store/group/lpcmetx/iDMe//Samples/Ntuples/signal/2018/Mchi-108p0_dMchi-36p0/ctau-1//ntuples_Mchi-108p0_dMchi-36p0_ctau-1_02.root\",\"outT\")\n",
    "ele_matches = events.GenEleMatches\n",
    "best_ele_match = events.GenEleMatchC\n",
    "pos_matches = events.GenPosMatches\n",
    "best_pos_match = events.GenPosMatchC"
   ]
  },
  {
   "cell_type": "code",
   "execution_count": 6,
   "id": "77d388f1-8b75-4a0d-89ac-8c645ad04876",
   "metadata": {},
   "outputs": [
    {
     "ename": "ValueError",
     "evalue": "cannot broadcast RegularArray of size 2 with RegularArray of size 6\n\n(https://github.com/scikit-hep/awkward-1.0/blob/1.5.0/src/awkward/_util.py#L909)",
     "output_type": "error",
     "traceback": [
      "\u001b[0;31m---------------------------------------------------------------------------\u001b[0m",
      "\u001b[0;31mValueError\u001b[0m                                Traceback (most recent call last)",
      "\u001b[0;32m/tmp/ipykernel_24996/3022098067.py\u001b[0m in \u001b[0;36m<module>\u001b[0;34m\u001b[0m\n\u001b[1;32m     75\u001b[0m         \u001b[0mpartitions\u001b[0m\u001b[0;34m.\u001b[0m\u001b[0mappend\u001b[0m\u001b[0;34m(\u001b[0m\u001b[0midx\u001b[0m\u001b[0;34m[\u001b[0m\u001b[0mcutE\u001b[0m\u001b[0;34m]\u001b[0m\u001b[0;34m)\u001b[0m\u001b[0;34m\u001b[0m\u001b[0;34m\u001b[0m\u001b[0m\n\u001b[1;32m     76\u001b[0m     \u001b[0;32mif\u001b[0m \u001b[0mak\u001b[0m\u001b[0;34m.\u001b[0m\u001b[0mcount_nonzero\u001b[0m\u001b[0;34m(\u001b[0m\u001b[0mcutF\u001b[0m\u001b[0;34m)\u001b[0m \u001b[0;34m>\u001b[0m \u001b[0;36m0\u001b[0m\u001b[0;34m:\u001b[0m\u001b[0;34m\u001b[0m\u001b[0;34m\u001b[0m\u001b[0m\n\u001b[0;32m---> 77\u001b[0;31m         \u001b[0mele_best\u001b[0m \u001b[0;34m=\u001b[0m \u001b[0mak\u001b[0m\u001b[0;34m.\u001b[0m\u001b[0mwhere\u001b[0m\u001b[0;34m(\u001b[0m\u001b[0mbest_ele_match\u001b[0m\u001b[0;34m.\u001b[0m\u001b[0mdr\u001b[0m \u001b[0;34m<\u001b[0m \u001b[0mbest_pos_match\u001b[0m\u001b[0;34m.\u001b[0m\u001b[0mdr\u001b[0m\u001b[0;34m,\u001b[0m\u001b[0mele_matches\u001b[0m\u001b[0;34m[\u001b[0m\u001b[0mcutF\u001b[0m\u001b[0;34m]\u001b[0m\u001b[0;34m[\u001b[0m\u001b[0;34m:\u001b[0m\u001b[0;34m,\u001b[0m\u001b[0;36m0\u001b[0m\u001b[0;34m]\u001b[0m\u001b[0;34m,\u001b[0m\u001b[0mele_matches\u001b[0m\u001b[0;34m[\u001b[0m\u001b[0mcutF\u001b[0m\u001b[0;34m]\u001b[0m\u001b[0;34m[\u001b[0m\u001b[0;34m:\u001b[0m\u001b[0;34m,\u001b[0m\u001b[0;36m1\u001b[0m\u001b[0;34m]\u001b[0m\u001b[0;34m)\u001b[0m\u001b[0;34m\u001b[0m\u001b[0;34m\u001b[0m\u001b[0m\n\u001b[0m\u001b[1;32m     78\u001b[0m         \u001b[0mpos_best\u001b[0m \u001b[0;34m=\u001b[0m \u001b[0mak\u001b[0m\u001b[0;34m.\u001b[0m\u001b[0mwhere\u001b[0m\u001b[0;34m(\u001b[0m\u001b[0mbest_pos_match\u001b[0m\u001b[0;34m.\u001b[0m\u001b[0mdr\u001b[0m \u001b[0;34m<\u001b[0m \u001b[0mbest_ele_match\u001b[0m\u001b[0;34m.\u001b[0m\u001b[0mdr\u001b[0m\u001b[0;34m,\u001b[0m\u001b[0mpos_matches\u001b[0m\u001b[0;34m[\u001b[0m\u001b[0mcutF\u001b[0m\u001b[0;34m]\u001b[0m\u001b[0;34m[\u001b[0m\u001b[0;34m:\u001b[0m\u001b[0;34m,\u001b[0m\u001b[0;36m0\u001b[0m\u001b[0;34m]\u001b[0m\u001b[0;34m,\u001b[0m\u001b[0mpos_matches\u001b[0m\u001b[0;34m[\u001b[0m\u001b[0mcutF\u001b[0m\u001b[0;34m]\u001b[0m\u001b[0;34m[\u001b[0m\u001b[0;34m:\u001b[0m\u001b[0;34m,\u001b[0m\u001b[0;36m1\u001b[0m\u001b[0;34m]\u001b[0m\u001b[0;34m)\u001b[0m\u001b[0;34m\u001b[0m\u001b[0;34m\u001b[0m\u001b[0m\n\u001b[1;32m     79\u001b[0m         \u001b[0mele\u001b[0m\u001b[0;34m.\u001b[0m\u001b[0mappend\u001b[0m\u001b[0;34m(\u001b[0m\u001b[0mele_best\u001b[0m\u001b[0;34m)\u001b[0m\u001b[0;34m\u001b[0m\u001b[0;34m\u001b[0m\u001b[0m\n",
      "\u001b[0;32m/uscms_data/d3/sbrightt/miniconda3/envs/coffea/lib/python3.8/site-packages/awkward/operations/structure.py\u001b[0m in \u001b[0;36mwhere\u001b[0;34m(condition, *args, **kwargs)\u001b[0m\n\u001b[1;32m   1731\u001b[0m \u001b[0;34m\u001b[0m\u001b[0m\n\u001b[1;32m   1732\u001b[0m         \u001b[0mbehavior\u001b[0m \u001b[0;34m=\u001b[0m \u001b[0mak\u001b[0m\u001b[0;34m.\u001b[0m\u001b[0m_util\u001b[0m\u001b[0;34m.\u001b[0m\u001b[0mbehaviorof\u001b[0m\u001b[0;34m(\u001b[0m\u001b[0makcondition\u001b[0m\u001b[0;34m,\u001b[0m \u001b[0mleft\u001b[0m\u001b[0;34m,\u001b[0m \u001b[0mright\u001b[0m\u001b[0;34m)\u001b[0m\u001b[0;34m\u001b[0m\u001b[0;34m\u001b[0m\u001b[0m\n\u001b[0;32m-> 1733\u001b[0;31m         out = ak._util.broadcast_and_apply(\n\u001b[0m\u001b[1;32m   1734\u001b[0m             \u001b[0;34m[\u001b[0m\u001b[0makcondition\u001b[0m\u001b[0;34m,\u001b[0m \u001b[0mleft\u001b[0m\u001b[0;34m,\u001b[0m \u001b[0mright\u001b[0m\u001b[0;34m]\u001b[0m\u001b[0;34m,\u001b[0m\u001b[0;34m\u001b[0m\u001b[0;34m\u001b[0m\u001b[0m\n\u001b[1;32m   1735\u001b[0m             \u001b[0mgetfunction\u001b[0m\u001b[0;34m,\u001b[0m\u001b[0;34m\u001b[0m\u001b[0;34m\u001b[0m\u001b[0m\n",
      "\u001b[0;32m/uscms_data/d3/sbrightt/miniconda3/envs/coffea/lib/python3.8/site-packages/awkward/_util.py\u001b[0m in \u001b[0;36mbroadcast_and_apply\u001b[0;34m(inputs, getfunction, behavior, allow_records, pass_depth, pass_user, user, left_broadcast, right_broadcast, numpy_to_regular, regular_to_jagged)\u001b[0m\n\u001b[1;32m   1153\u001b[0m     \u001b[0;32melse\u001b[0m\u001b[0;34m:\u001b[0m\u001b[0;34m\u001b[0m\u001b[0;34m\u001b[0m\u001b[0m\n\u001b[1;32m   1154\u001b[0m         \u001b[0misscalar\u001b[0m \u001b[0;34m=\u001b[0m \u001b[0;34m[\u001b[0m\u001b[0;34m]\u001b[0m\u001b[0;34m\u001b[0m\u001b[0;34m\u001b[0m\u001b[0m\n\u001b[0;32m-> 1155\u001b[0;31m         \u001b[0mout\u001b[0m \u001b[0;34m=\u001b[0m \u001b[0mapply\u001b[0m\u001b[0;34m(\u001b[0m\u001b[0mbroadcast_pack\u001b[0m\u001b[0;34m(\u001b[0m\u001b[0minputs\u001b[0m\u001b[0;34m,\u001b[0m \u001b[0misscalar\u001b[0m\u001b[0;34m)\u001b[0m\u001b[0;34m,\u001b[0m \u001b[0;36m0\u001b[0m\u001b[0;34m,\u001b[0m \u001b[0muser\u001b[0m\u001b[0;34m)\u001b[0m\u001b[0;34m\u001b[0m\u001b[0;34m\u001b[0m\u001b[0m\n\u001b[0m\u001b[1;32m   1156\u001b[0m         \u001b[0;32massert\u001b[0m \u001b[0misinstance\u001b[0m\u001b[0;34m(\u001b[0m\u001b[0mout\u001b[0m\u001b[0;34m,\u001b[0m \u001b[0mtuple\u001b[0m\u001b[0;34m)\u001b[0m\u001b[0;34m\u001b[0m\u001b[0;34m\u001b[0m\u001b[0m\n\u001b[1;32m   1157\u001b[0m         \u001b[0;32mreturn\u001b[0m \u001b[0mtuple\u001b[0m\u001b[0;34m(\u001b[0m\u001b[0mbroadcast_unpack\u001b[0m\u001b[0;34m(\u001b[0m\u001b[0mx\u001b[0m\u001b[0;34m,\u001b[0m \u001b[0misscalar\u001b[0m\u001b[0;34m)\u001b[0m \u001b[0;32mfor\u001b[0m \u001b[0mx\u001b[0m \u001b[0;32min\u001b[0m \u001b[0mout\u001b[0m\u001b[0;34m)\u001b[0m\u001b[0;34m\u001b[0m\u001b[0;34m\u001b[0m\u001b[0m\n",
      "\u001b[0;32m/uscms_data/d3/sbrightt/miniconda3/envs/coffea/lib/python3.8/site-packages/awkward/_util.py\u001b[0m in \u001b[0;36mapply\u001b[0;34m(inputs, depth, user)\u001b[0m\n\u001b[1;32m    902\u001b[0m                             \u001b[0mnextinputs\u001b[0m\u001b[0;34m.\u001b[0m\u001b[0mappend\u001b[0m\u001b[0;34m(\u001b[0m\u001b[0mx\u001b[0m\u001b[0;34m.\u001b[0m\u001b[0mcontent\u001b[0m\u001b[0;34m[\u001b[0m\u001b[0;34m:\u001b[0m \u001b[0mlen\u001b[0m\u001b[0;34m(\u001b[0m\u001b[0mx\u001b[0m\u001b[0;34m)\u001b[0m \u001b[0;34m*\u001b[0m \u001b[0mx\u001b[0m\u001b[0;34m.\u001b[0m\u001b[0msize\u001b[0m\u001b[0;34m]\u001b[0m\u001b[0;34m)\u001b[0m\u001b[0;34m\u001b[0m\u001b[0;34m\u001b[0m\u001b[0m\n\u001b[1;32m    903\u001b[0m                         \u001b[0;32melse\u001b[0m\u001b[0;34m:\u001b[0m\u001b[0;34m\u001b[0m\u001b[0;34m\u001b[0m\u001b[0m\n\u001b[0;32m--> 904\u001b[0;31m                             raise ValueError(\n\u001b[0m\u001b[1;32m    905\u001b[0m                                 \u001b[0;34m\"cannot broadcast RegularArray of size \"\u001b[0m\u001b[0;34m\u001b[0m\u001b[0;34m\u001b[0m\u001b[0m\n\u001b[1;32m    906\u001b[0m                                 \"{0} with RegularArray of size {1}\".format(\n",
      "\u001b[0;31mValueError\u001b[0m: cannot broadcast RegularArray of size 2 with RegularArray of size 6\n\n(https://github.com/scikit-hep/awkward-1.0/blob/1.5.0/src/awkward/_util.py#L909)"
     ]
    }
   ],
   "source": [
    "allow11 = False\n",
    "\n",
    "numE = ak.count(ele_matches.typ,axis=1)\n",
    "numP = ak.count(pos_matches.typ,axis=1)\n",
    "idx = ak.Array(np.arange(len(best_ele_match)))\n",
    "\n",
    "partitions = []\n",
    "ele = []\n",
    "pos = []\n",
    "\n",
    "for i in range(1):\n",
    "    # removing events where one or more objects has no match\n",
    "    cutA = (numE > 0) & (numP > 0)\n",
    "    ele.append(best_ele_match[~cutA])\n",
    "    pos.append(best_pos_match[~cutA])\n",
    "    partitions.append(idx[~cutA])\n",
    "    ele_matches = ele_matches[cutA]\n",
    "    best_ele_match = best_ele_match[cutA]\n",
    "    pos_matches = pos_matches[cutA]\n",
    "    best_pos_match = best_pos_match[cutA]\n",
    "    idx = idx[cutA]\n",
    "    numE = numE[cutA]\n",
    "    numP = numP[cutA]\n",
    "\n",
    "    if len(numE) == 0:\n",
    "        break\n",
    "\n",
    "    # remove events with distinct match\n",
    "    cutB = (best_ele_match.typ == best_pos_match.typ) & (best_ele_match.ind == best_pos_match.ind)\n",
    "    ele.append(best_ele_match[~cutB])\n",
    "    pos.append(best_pos_match[~cutB])\n",
    "    partitions.append(idx[~cutB])\n",
    "    ele_matches = ele_matches[cutB]\n",
    "    best_ele_match = best_ele_match[cutB]\n",
    "    pos_matches = pos_matches[cutB]\n",
    "    best_pos_match = best_pos_match[cutB]\n",
    "    idx = idx[cutB]\n",
    "    numE = numE[cutB]\n",
    "    numP = numP[cutB]\n",
    "\n",
    "    if len(numP) == 0:\n",
    "        break\n",
    "\n",
    "    # sorting remaining matches by dR\n",
    "    sort_ele = ak.argsort(ele_matches.dr,axis=1)\n",
    "    sort_pos = ak.argsort(pos_matches.dr,axis=1)\n",
    "    ele_matches = ele_matches[sort_ele]\n",
    "    pos_matches = pos_matches[sort_pos]\n",
    "\n",
    "    cutC = (numE == 1) & (numP == 1)\n",
    "    cutD = (numE >= 2) & (numP == 1)\n",
    "    cutE = (numE == 1) & (numP >= 2)\n",
    "    cutF = (numE >= 2) & (numP >= 2)\n",
    "\n",
    "    if ak.count_nonzero(cutC) > 0:\n",
    "        ele_best = best_ele_match[cutC]\n",
    "        pos_best = best_pos_match[cutC]\n",
    "        if not allow11:\n",
    "            ele_best = ak.where(ele_best.dr < pos_best.dr,ele_best,ak.full_like(ele_best,0))\n",
    "            pos_best = ak.where(pos_best.dr < ele_best.dr,pos_best,ak.full_like(pos_best,0))\n",
    "        ele.append(ele_best)\n",
    "        pos.append(pos_best)\n",
    "        partitions.append(idx[cutC])\n",
    "    if ak.count_nonzero(cutD) > 0:\n",
    "        ele_best = ele_matches[cutD][:,1]\n",
    "        pos_best = best_pos_match[cutD]\n",
    "        ele.append(ele_best)\n",
    "        pos.append(pos_best)\n",
    "        partitions.append(idx[cutD])\n",
    "    if ak.count_nonzero(cutE) > 0:\n",
    "        ele_best = best_ele_match[cutE]\n",
    "        pos_best = pos_matches[cutE][:,1]\n",
    "        ele.append(ele_best)\n",
    "        pos.append(pos_best)\n",
    "        partitions.append(idx[cutE])\n",
    "    if ak.count_nonzero(cutF) > 0:\n",
    "        ele_best = ak.where(best_ele_match[cutF].dr < best_pos_match[cutF].dr,ele_matches[cutF][:,0],ele_matches[cutF][:,1])\n",
    "        pos_best = ak.where(best_pos_match[cutF].dr < best_ele_match[cutF].dr,pos_matches[cutF][:,0],pos_matches[cutF][:,1])\n",
    "        ele.append(ele_best)\n",
    "        pos.append(pos_best)\n",
    "        partitions.append(idx[cutF])\n",
    "\n",
    "all_partitions = ak.concatenate(partitions)\n",
    "reorder = ak.argsort(all_partitions)\n",
    "ele_out = ak.concatenate(ele)[reorder]\n",
    "pos_out = ak.concatenate(pos)[reorder]"
   ]
  },
  {
   "cell_type": "code",
   "execution_count": 16,
   "id": "631bc0da-b928-4005-9723-9f2709542b33",
   "metadata": {},
   "outputs": [
    {
     "data": {
      "text/plain": [
       "<NanoCollectionArray [{dr: 0.000263, ind: 0, ... typ: 1}] type='2 * struct[[\"dr\"...'>"
      ]
     },
     "execution_count": 16,
     "metadata": {},
     "output_type": "execute_result"
    }
   ],
   "source": [
    "best_ele_match[cutF]"
   ]
  },
  {
   "cell_type": "code",
   "execution_count": null,
   "id": "1ac36878-688d-4d42-8375-d0c1b3e6e7f3",
   "metadata": {},
   "outputs": [],
   "source": []
  }
 ],
 "metadata": {
  "kernelspec": {
   "display_name": "Python [conda env:coffea]",
   "language": "python",
   "name": "conda-env-coffea-py"
  },
  "language_info": {
   "codemirror_mode": {
    "name": "ipython",
    "version": 3
   },
   "file_extension": ".py",
   "mimetype": "text/x-python",
   "name": "python",
   "nbconvert_exporter": "python",
   "pygments_lexer": "ipython3",
   "version": "3.8.11"
  }
 },
 "nbformat": 4,
 "nbformat_minor": 5
}
