{
 "cells": [
  {
   "cell_type": "code",
   "execution_count": 1,
   "id": "74b38646-637c-4ef8-8e8f-346d762af7fa",
   "metadata": {},
   "outputs": [],
   "source": [
    "import sys\n",
    "sys.path.append(\"/uscms/home/sbrightt/nobackup/iDM/iDMe_analysis/CMSSW_10_6_26/src/iDMe/python_analysis/analysisTools\")\n",
    "from analysisImports import *\n",
    "setLibParams()\n",
    "\n",
    "cfgDir = \"/uscms/home/sbrightt/nobackup/iDM/iDMe_analysis/CMSSW_10_6_26/src/iDMe/python_analysis/configs/\"\n",
    "plt.style.use(cfgDir+'plt_settings.mplstyle')"
   ]
  },
  {
   "cell_type": "code",
   "execution_count": 2,
   "id": "021c10d4-40c0-493e-8b3a-e27928421117",
   "metadata": {},
   "outputs": [],
   "source": [
    "importlib.reload(aTools)\n",
    "az = aTools.Analyzer(cfgDir+'sample_configs/signal_aEM.json',cfgDir+'histo_configs/histoList.json',cfgDir+'histo_configs/histoPlotConfig.json')\n",
    "fileset = az.sample_locs\n",
    "samples = az.sample_names\n",
    "sample_info = az.sample_info\n",
    "histos = az.histos"
   ]
  },
  {
   "cell_type": "code",
   "execution_count": 3,
   "id": "11fac601-5cdb-4dae-a436-10a53b83d728",
   "metadata": {},
   "outputs": [
    {
     "data": {
      "application/vnd.jupyter.widget-view+json": {
       "model_id": "7b549a8741d3455fa8b79a605493d44c",
       "version_major": 2,
       "version_minor": 0
      },
      "text/plain": [
       "Preprocessing:   0%|          | 0/44 [00:00<?, ?file/s]"
      ]
     },
     "metadata": {},
     "output_type": "display_data"
    },
    {
     "data": {
      "application/vnd.jupyter.widget-view+json": {
       "model_id": "f808e66d6a2147b2828e68a1163996cf",
       "version_major": 2,
       "version_minor": 0
      },
      "text/plain": [
       "Processing:   0%|          | 0/44 [00:00<?, ?chunk/s]"
      ]
     },
     "metadata": {},
     "output_type": "display_data"
    }
   ],
   "source": [
    "proc = aTools.iDMeProcessor(samples,sample_info,fileset,histos)\n",
    "out = processor.run_uproot_job(fileset,\n",
    "                              treename='ntuples/outT',\n",
    "                              processor_instance=proc,\n",
    "                              executor=processor.iterative_executor,\n",
    "                              executor_args={\n",
    "                                  \"schema\":NanoAODSchema\n",
    "                              })"
   ]
  },
  {
   "cell_type": "code",
   "execution_count": 4,
   "id": "be33ad4b-7b48-4f94-b3a4-d4ae985ca3fb",
   "metadata": {},
   "outputs": [
    {
     "name": "stderr",
     "output_type": "stream",
     "text": [
      "/uscms_data/d3/sbrightt/miniconda3/envs/coffea/lib/python3.8/site-packages/coffea/hist/plot.py:333: UserWarning: Attempted to set non-positive bottom ylim on a log-scaled axis.\n",
      "Invalid limit will be ignored.\n",
      "  ax.set_ylim(0, None)\n"
     ]
    },
    {
     "data": {
      "text/plain": [
       "<AxesSubplot:xlabel='$p_{T}$ [GeV]', ylabel='Events'>"
      ]
     },
     "execution_count": 4,
     "metadata": {},
     "output_type": "execute_result"
    },
    {
     "data": {
      "image/png": "[encoded data removed]",
      "text/plain": [
       "<Figure size 432x288 with 1 Axes>"
      ]
     },
     "metadata": {
      "needs_background": "light"
     },
     "output_type": "display_data"
    },
    {
     "name": "stderr",
     "output_type": "stream",
     "text": [
      "Error in atexit._run_exitfuncs:\n",
      "Traceback (most recent call last):\n",
      "  File \"/uscms_data/d3/sbrightt/miniconda3/envs/coffea/lib/python3.8/site-packages/XRootD/client/finalize.py\", line 45, in finalize\n",
      "    if isinstance(obj, File) and obj.is_open():\n",
      "ReferenceError: weakly-referenced object no longer exists\n"
     ]
    }
   ],
   "source": [
    "h = out['ele_kinematics']\n",
    "hd = h.integrate('sample',int_range='sig_2018_Mchi-48.0_dMchi-16.0_ctau-1').integrate('ele_type',int_range='Default')\n",
    "hd2 = h.integrate('sample',int_range='sig_2018_Mchi-48.0_dMchi-16.0_ctau-1').integrate('ele_type',int_range='Default')\n",
    "hd = hd.integrate('eta',overflow='all').integrate('phi',overflow='all')\n",
    "plt.yscale('log')\n",
    "hist.plot1d(hd)"
   ]
  },
  {
   "cell_type": "code",
   "execution_count": null,
   "id": "b68fd3d2-ab85-4b02-b925-26dadac8d324",
   "metadata": {},
   "outputs": [],
   "source": []
  }
 ],
 "metadata": {
  "kernelspec": {
   "display_name": "Python [conda env:coffea]",
   "language": "python",
   "name": "conda-env-coffea-py"
  },
  "language_info": {
   "codemirror_mode": {
    "name": "ipython",
    "version": 3
   },
   "file_extension": ".py",
   "mimetype": "text/x-python",
   "name": "python",
   "nbconvert_exporter": "python",
   "pygments_lexer": "ipython3",
   "version": "3.8.11"
  }
 },
 "nbformat": 4,
 "nbformat_minor": 5
}
