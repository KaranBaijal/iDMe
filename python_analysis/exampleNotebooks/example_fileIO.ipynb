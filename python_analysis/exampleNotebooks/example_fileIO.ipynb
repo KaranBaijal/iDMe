{
 "cells": [
  {
   "cell_type": "code",
   "execution_count": 1,
   "id": "a9d2f1d5-517a-4ee4-bd7f-4e8dced3c8c9",
   "metadata": {},
   "outputs": [],
   "source": [
    "%load_ext autoreload\n",
    "%autoreload 2\n",
    "import uproot\n",
    "import numpy as np\n",
    "import matplotlib.pyplot as plt\n",
    "import awkward as ak\n",
    "import sys\n",
    "import importlib\n",
    "import coffea.util as util\n",
    "import time\n",
    "import json\n",
    "import os\n",
    "\n",
    "sys.path.append(\"../../analysisTools/\")\n",
    "from analysisTools import Analyzer\n",
    "from analysisTools import loadSchema\n",
    "import analysisTools as tools\n",
    "import analysisSubroutines as routines\n",
    "\n",
    "sample_cfg_dir = \"../../configs/sample_configs/\"\n",
    "histo_cfg_dir = \"../../configs/histo_configs/\"\n",
    "cut_cfg_dir = \"../../configs/cut_configs/\""
   ]
  },
  {
   "cell_type": "code",
   "execution_count": 2,
   "id": "04eff68a-bae6-44db-98d7-84f09ce85f8e",
   "metadata": {},
   "outputs": [],
   "source": [
    "# load in a \"sample config file\" for the 2018 signal samples\n",
    "with open(sample_cfg_dir+\"signal_v2_2018_aEM.json\",\"r\") as fin:\n",
    "    sig_cfg = json.load(fin)"
   ]
  },
  {
   "cell_type": "code",
   "execution_count": 3,
   "id": "60367dc0-1d44-4bde-a5a4-f09d001168fc",
   "metadata": {},
   "outputs": [
    {
     "data": {
      "text/plain": [
       "{'location': '/store/group/lpcmetx/iDMe//Samples/Ntuples/signal_v2/2018/Mchi-10p5_dMchi-1p0/ctau-1/',\n",
       " 'Mchi': 10.5,\n",
       " 'dMchi': 1.0,\n",
       " 'ctau': 1,\n",
       " 'name': 'sig_Mchi-10.5_dMchi-1.0_ct-1',\n",
       " 'sum_wgt': 9.160776812677796e-07,\n",
       " 'type': 'signal',\n",
       " 'year': 2018,\n",
       " 'alphaD': 'aEM',\n",
       " 'xsec': 41339.815,\n",
       " 'nFiles': 6,\n",
       " 'num_events': 189059,\n",
       " 'blacklist': []}"
      ]
     },
     "execution_count": 3,
     "metadata": {},
     "output_type": "execute_result"
    }
   ],
   "source": [
    "# look at one of the entries\n",
    "sig_cfg[0]"
   ]
  },
  {
   "cell_type": "markdown",
   "id": "4c29aae9-cf1d-49c9-abd3-5e10175adbcd",
   "metadata": {},
   "source": [
    "Here's what this information means:\n",
    "- `location` : the directory where all the `.root` files for this signal sample are located \n",
    "- `Mchi`, `dMchi`, `ctau` : model parameters for this signal point\n",
    "- `name` : name for the signal sample\n",
    "- `sum_wgt` : sum of the Monte Carlo event weights for all events in this sample (relevant for filling histograms)\n",
    "- `type`,`year` : Information on what kind of sample this is (signal, in this case), and what data-taking year the Monte Carlo generation was configured to reproduce\n",
    "- `alphaD` : parameter setting for the dark matter U(1) coupling constant. `aEM` means it's set equal to the electromagnetic coupling.\n",
    "- `xsec` : production cross section for this signal\n",
    "- `nFiles` : number of `.root` files in the sample\n",
    "- `num_events` : number of events in the sample\n",
    "- `blacklist` : list of any corrupted or unusable `.root` files (rare for this to happen)"
   ]
  },
  {
   "cell_type": "markdown",
   "id": "2df3ecb9-d34d-474e-8aef-4bc3c54bdc3a",
   "metadata": {},
   "source": [
    "Now, let's make a list of all the `.root` files for this sample. We will use the `XRootD` package to interact with the `eos` filesystem, where the `.root` files are stored."
   ]
  },
  {
   "cell_type": "code",
   "execution_count": 4,
   "id": "4fa175fa-6839-4149-b231-f1e8c9215996",
   "metadata": {},
   "outputs": [],
   "source": [
    "from XRootD import client\n",
    "loc = sig_cfg[0]['location']\n",
    "blacklist = sig_cfg[0]['blacklist']\n",
    "xrdClient = client.FileSystem(\"root://cmseos.fnal.gov\")\n",
    "status, flist = xrdClient.dirlist(loc) # get list of files in directory\n",
    "# select only non-blacklisted root files, prepend the root://cmsxrootd.fnal.gov/ to the file paths\n",
    "fullList = [\"root://cmseos.fnal.gov/\"+loc+\"/\"+item.name for item in flist if (('.root' in item.name) and (item.name not in blacklist))]\n"
   ]
  },
  {
   "cell_type": "code",
   "execution_count": 5,
   "id": "4c1df55c-f98e-4360-bda5-dd09802b7516",
   "metadata": {},
   "outputs": [
    {
     "data": {
      "text/plain": [
       "['root://cmseos.fnal.gov//store/group/lpcmetx/iDMe//Samples/Ntuples/signal_v2/2018/Mchi-10p5_dMchi-1p0/ctau-1//ntuples_Mchi-10p5_dMchi-1p0_ctau-1_00.root',\n",
       " 'root://cmseos.fnal.gov//store/group/lpcmetx/iDMe//Samples/Ntuples/signal_v2/2018/Mchi-10p5_dMchi-1p0/ctau-1//ntuples_Mchi-10p5_dMchi-1p0_ctau-1_01.root',\n",
       " 'root://cmseos.fnal.gov//store/group/lpcmetx/iDMe//Samples/Ntuples/signal_v2/2018/Mchi-10p5_dMchi-1p0/ctau-1//ntuples_Mchi-10p5_dMchi-1p0_ctau-1_02.root',\n",
       " 'root://cmseos.fnal.gov//store/group/lpcmetx/iDMe//Samples/Ntuples/signal_v2/2018/Mchi-10p5_dMchi-1p0/ctau-1//ntuples_Mchi-10p5_dMchi-1p0_ctau-1_03.root',\n",
       " 'root://cmseos.fnal.gov//store/group/lpcmetx/iDMe//Samples/Ntuples/signal_v2/2018/Mchi-10p5_dMchi-1p0/ctau-1//ntuples_Mchi-10p5_dMchi-1p0_ctau-1_04.root',\n",
       " 'root://cmseos.fnal.gov//store/group/lpcmetx/iDMe//Samples/Ntuples/signal_v2/2018/Mchi-10p5_dMchi-1p0/ctau-1//ntuples_Mchi-10p5_dMchi-1p0_ctau-1_05.root']"
      ]
     },
     "execution_count": 5,
     "metadata": {},
     "output_type": "execute_result"
    }
   ],
   "source": [
    "fullList"
   ]
  },
  {
   "cell_type": "markdown",
   "id": "b907f8a2-e5ac-497f-a76b-bf89da8255cc",
   "metadata": {},
   "source": [
    "Now we will use the uproot package to load in a ROOT file and look at its contents. All of the event data is stored in a `TTree` object called `outT` inside the `ntuples` directory of the file."
   ]
  },
  {
   "cell_type": "code",
   "execution_count": 6,
   "id": "08beef62-e052-41b3-9e4a-a9eac091de6a",
   "metadata": {},
   "outputs": [],
   "source": [
    "# open the first file in the list\n",
    "t = uproot.open(fullList[0])['ntuples/outT']"
   ]
  },
  {
   "cell_type": "code",
   "execution_count": 7,
   "id": "6809295e-bf6a-42f2-bb26-710b2c3321f6",
   "metadata": {},
   "outputs": [
    {
     "data": {
      "text/plain": [
       "<TTree 'outT' (296 branches) at 0x7f649c3fbfd0>"
      ]
     },
     "execution_count": 7,
     "metadata": {},
     "output_type": "execute_result"
    }
   ],
   "source": [
    "t"
   ]
  },
  {
   "cell_type": "markdown",
   "id": "4b6e171f-e5b9-478d-b6db-cc5de5e06414",
   "metadata": {},
   "source": [
    "We see that the TTree has 296 \"branches\". Each branch records the value(s) of some variable for each event (e.g. electron $p_T$ or missing transverse energy)"
   ]
  },
  {
   "cell_type": "code",
   "execution_count": 8,
   "id": "76ac6597-083d-4437-91a6-d5493a0f65d3",
   "metadata": {},
   "outputs": [
    {
     "name": "stdout",
     "output_type": "stream",
     "text": [
      "trigFired\n",
      "trigFired16\n",
      "trigFired17\n",
      "trigFired18\n",
      "eventNum\n",
      "lumiSec\n",
      "runNum\n",
      "METFiltersFailBits\n",
      "nElectron\n",
      "Electron_pt\n",
      "Electron_eta\n",
      "Electron_etaErr\n",
      "Electron_phi\n",
      "Electron_phiErr\n",
      "Electron_IDcutVeto\n",
      "Electron_IDcutLoose\n",
      "Electron_IDcutMed\n",
      "Electron_IDcutTight\n",
      "Electron_IDmvaIso90\n",
      "Electron_IDmvaIso80\n",
      "Electron_IDmvaIsoLoose\n",
      "Electron_IDmva90\n",
      "Electron_IDmva80\n",
      "Electron_IDmvaLoose\n",
      "Electron_angRes\n",
      "Electron_e\n",
      "Electron_vxy\n",
      "Electron_vz\n",
      "Electron_dxy\n",
      "Electron_dxyErr\n",
      "Electron_dz\n",
      "Electron_dzErr\n",
      "Electron_trkChi2\n",
      "Electron_trkIso\n",
      "Electron_trkRelIso\n",
      "Electron_calIso\n",
      "Electron_calRelIso\n",
      "Electron_PFIso4\n",
      "Electron_PFRelIso4\n",
      "Electron_PFIso3\n",
      "Electron_PFRelIso3\n",
      "Electron_PFIso8\n",
      "Electron_PFRelIso8\n",
      "Electron_PFIso\n",
      "Electron_PFRelIso\n",
      "Electron_trkProb\n",
      "Electron_numTrackerHits\n",
      "Electron_numPixHits\n",
      "Electron_numStripHits\n",
      "Electron_charge\n",
      "nLptElectron\n",
      "LptElectron_pt\n",
      "LptElectron_eta\n",
      "LptElectron_etaErr\n",
      "LptElectron_phi\n",
      "LptElectron_phiErr\n",
      "LptElectron_ID\n",
      "LptElectron_angRes\n",
      "LptElectron_e\n",
      "LptElectron_vxy\n",
      "LptElectron_vz\n",
      "LptElectron_dxy\n",
      "LptElectron_dxyErr\n",
      "LptElectron_dz\n",
      "LptElectron_dzErr\n",
      "LptElectron_trkChi2\n",
      "LptElectron_trkIso\n",
      "LptElectron_trkRelIso\n",
      "LptElectron_calIso\n",
      "LptElectron_calRelIso\n",
      "LptElectron_PFIso4\n",
      "LptElectron_PFRelIso4\n",
      "LptElectron_PFIso3\n",
      "LptElectron_PFRelIso3\n",
      "LptElectron_PFIso8\n",
      "LptElectron_PFIso\n",
      "LptElectron_PFRelIso\n",
      "LptElectron_PFRelIso8\n",
      "LptElectron_trkProb\n",
      "LptElectron_numTrackerHits\n",
      "LptElectron_numPixHits\n",
      "LptElectron_numStripHits\n",
      "LptElectron_charge\n",
      "LptElectron_minDRtoReg\n",
      "nPhoton\n",
      "Photon_et\n",
      "Photon_eta\n",
      "Photon_phi\n",
      "nootPhoton\n",
      "ootPhoton_et\n",
      "ootPhoton_eta\n",
      "ootPhoton_phi\n",
      "nConversion\n",
      "Conversion_pt\n",
      "Conversion_eta\n",
      "Conversion_phi\n",
      "Conversion_energy\n",
      "Conversion_px\n",
      "Conversion_py\n",
      "Conversion_pz\n",
      "Conversion_vxy\n",
      "Conversion_vz\n",
      "Conversion_x\n",
      "Conversion_y\n",
      "Conversion_z\n",
      "Conversion_trk1_innerPt\n",
      "Conversion_trk1_innerEta\n",
      "Conversion_trk1_innerPhi\n",
      "Conversion_trk1_outerPt\n",
      "Conversion_trk1_outerEta\n",
      "Conversion_trk1_outerPhi\n",
      "Conversion_trk2_innerPt\n",
      "Conversion_trk2_innerEta\n",
      "Conversion_trk2_innerPhi\n",
      "Conversion_trk2_outerPt\n",
      "Conversion_trk2_outerEta\n",
      "Conversion_trk2_outerPhi\n",
      "nPFJetAll\n",
      "nPFJet\n",
      "PFJet_pt\n",
      "PFJet_eta\n",
      "PFJet_phi\n",
      "PFJet_bTag\n",
      "PFJet_METdPhi\n",
      "PFJet_CHEF\n",
      "PFJet_NHEF\n",
      "PFJet_CEEF\n",
      "PFJet_NEEF\n",
      "PFJet_corrNumDaughters\n",
      "PFJet_corrCHM\n",
      "PFJet_corrJESUp_pt\n",
      "PFJet_corrJESUp_eta\n",
      "PFJet_corrJESUp_phi\n",
      "PFJet_corrJESDown_pt\n",
      "PFJet_corrJESDown_eta\n",
      "PFJet_corrJESDown_phi\n",
      "PFJet_corrJERUp_pt\n",
      "PFJet_corrJERUp_eta\n",
      "PFJet_corrJERUp_phi\n",
      "PFJet_corrJERDown_pt\n",
      "PFJet_corrJERDown_eta\n",
      "PFJet_corrJERDown_phi\n",
      "HEM_flag\n",
      "PFMET_ET\n",
      "PFMET_pt\n",
      "PFMET_phi\n",
      "PFMET_JESUpPt\n",
      "PFMET_JESUpPhi\n",
      "PFMET_JESDownPt\n",
      "PFMET_JESDownPhi\n",
      "PFMET_JERUpPt\n",
      "PFMET_JERUpPhi\n",
      "PFMET_JERDownPt\n",
      "PFMET_JERDownPhi\n",
      "PFMET_JetResUpSmearPt\n",
      "PFMET_JetResUpSmearPhi\n",
      "PFMET_JetResDownSmearPt\n",
      "PFMET_JetResDownSmearPhi\n",
      "CaloMET_ET\n",
      "CaloMET_pt\n",
      "CaloMET_phi\n",
      "rho\n",
      "nvtx\n",
      "vtx_typ\n",
      "vtx_vxy\n",
      "vtx_sigmavxy\n",
      "vtx_vx\n",
      "vtx_vy\n",
      "vtx_vz\n",
      "vtx_reduced_chi2\n",
      "vtx_prob\n",
      "vtx_dR\n",
      "vtx_sign\n",
      "vtx_minDxy\n",
      "vtx_METdPhi\n",
      "vtx_pt\n",
      "vtx_eta\n",
      "vtx_phi\n",
      "vtx_energy\n",
      "vtx_m\n",
      "vtx_px\n",
      "vtx_py\n",
      "vtx_pz\n",
      "vtx_PFIso4\n",
      "vtx_PFRelIso4\n",
      "vtx_PFIso3\n",
      "vtx_PFRelIso3\n",
      "vtx_PFIso8\n",
      "vtx_PFRelIso8\n",
      "vtx_e1_typ\n",
      "vtx_e1_idx\n",
      "vtx_e2_typ\n",
      "vtx_e2_idx\n",
      "genWgt\n",
      "genPU_obs\n",
      "genPU_true\n",
      "nGenJet\n",
      "GenJet_pt\n",
      "GenJet_eta\n",
      "GenJet_phi\n",
      "GenJet_METdPhi\n",
      "GenMET_pt\n",
      "GenMET_phi\n",
      "GenMET_px\n",
      "GenMET_py\n",
      "GenMET_ET\n",
      "nGenPart\n",
      "GenPart_ID\n",
      "GenPart_charge\n",
      "GenPart_pt\n",
      "GenPart_eta\n",
      "GenPart_phi\n",
      "GenPart_e\n",
      "GenPart_px\n",
      "GenPart_py\n",
      "GenPart_pz\n",
      "GenPart_vxy\n",
      "GenPart_vx\n",
      "GenPart_vy\n",
      "GenPart_vz\n",
      "GenPart_mass\n",
      "GenEle_charge\n",
      "GenEle_motherID\n",
      "GenEle_pt\n",
      "GenEle_eta\n",
      "GenEle_phi\n",
      "GenEle_energy\n",
      "GenEle_px\n",
      "GenEle_py\n",
      "GenEle_pz\n",
      "GenEle_vxy\n",
      "GenEle_vz\n",
      "GenEleClosest_typ\n",
      "GenEleClosest_ind\n",
      "GenEleClosest_dr\n",
      "GenEleClosestReg_ind\n",
      "GenEleClosestReg_dr\n",
      "GenEleClosestLpt_ind\n",
      "GenEleClosestLpt_dr\n",
      "GenPos_charge\n",
      "GenPos_motherID\n",
      "GenPos_pt\n",
      "GenPos_eta\n",
      "GenPos_phi\n",
      "GenPos_energy\n",
      "GenPos_px\n",
      "GenPos_py\n",
      "GenPos_pz\n",
      "GenPos_vxy\n",
      "GenPos_vz\n",
      "GenPosClosest_typ\n",
      "GenPosClosest_ind\n",
      "GenPosClosest_dr\n",
      "GenPosClosestReg_ind\n",
      "GenPosClosestReg_dr\n",
      "GenPosClosestLpt_ind\n",
      "GenPosClosestLpt_dr\n",
      "nGenEleTrkMatches\n",
      "genEleNearTk_pt\n",
      "genEleNearTk_eta\n",
      "genEleNearTk_phi\n",
      "genEleNearTk_dRgen\n",
      "genEleNearTk_pfIso3\n",
      "genEleNearTk_miniIso\n",
      "genEleNearTk_dxy\n",
      "genEleNearTk_dz\n",
      "genEleNearTk_highPurity\n",
      "genEleNearTk_loose\n",
      "genEleNearTk_charge\n",
      "genEleNearTk_numPixHits\n",
      "genEleNearTk_numStripHits\n",
      "genEleNearTk_fromPV\n",
      "genEleNearTk_tkIdx\n",
      "nGenPosTrkMatches\n",
      "genPosNearTk_pt\n",
      "genPosNearTk_eta\n",
      "genPosNearTk_phi\n",
      "genPosNearTk_dRgen\n",
      "genPosNearTk_pfIso3\n",
      "genPosNearTk_miniIso\n",
      "genPosNearTk_dxy\n",
      "genPosNearTk_dz\n",
      "genPosNearTk_highPurity\n",
      "genPosNearTk_loose\n",
      "genPosNearTk_charge\n",
      "genPosNearTk_numPixHits\n",
      "genPosNearTk_numStripHits\n",
      "genPosNearTk_fromPV\n",
      "genPosNearTk_tkIdx\n",
      "genEE_pt\n",
      "genEE_eta\n",
      "genEE_phi\n",
      "genEE_energy\n",
      "genEE_mass\n",
      "genEE_dr\n",
      "genEE_METdPhi\n"
     ]
    }
   ],
   "source": [
    "print(\"\\n\".join(t.keys()))"
   ]
  },
  {
   "cell_type": "markdown",
   "id": "f4be55a3",
   "metadata": {},
   "source": [
    "There are a lot of entries here! But they're mostly grouped by name, so e.g. `Electron_*` are kinematic quantities for the electrons in each event, `LptElectron_*` are for the low-$p_T$ electrons, and so on.\n",
    "\n",
    "Let's look at the electrons as an example"
   ]
  },
  {
   "cell_type": "code",
   "execution_count": 9,
   "id": "dcd1b670-8d4a-4046-846e-2c0f52d3b1d4",
   "metadata": {},
   "outputs": [
    {
     "name": "stdout",
     "output_type": "stream",
     "text": [
      "[[52.6], [3.91], [], [], []]\n"
     ]
    }
   ],
   "source": [
    "ele_pt = t['Electron_pt'].array()\n",
    "print(ele_pt[:5]) # print the electron pT for the first 5 events"
   ]
  },
  {
   "cell_type": "markdown",
   "id": "2651e6db",
   "metadata": {},
   "source": [
    "The array `Electron_pt` is a *jagged array*, meaning each event has a variable number of entries (i.e. a variable number of electrons). Jagged arrrays are handled by the `awkward` package. \n",
    "\n",
    "Since this is a signal sample, we can also look at variables for the *generator-level* electron and positron in the iDM signal. These are accessed via the `GenEle_*` and `GenPos_*` branches"
   ]
  },
  {
   "cell_type": "code",
   "execution_count": 10,
   "id": "7060bb05",
   "metadata": {},
   "outputs": [
    {
     "data": {
      "text/plain": [
       "<Array [1.03, 0.421, 2.41, ... 0.0764, 4.39] type='29682 * float32'>"
      ]
     },
     "execution_count": 10,
     "metadata": {},
     "output_type": "execute_result"
    }
   ],
   "source": [
    "t[\"GenEle_pt\"].array()"
   ]
  },
  {
   "cell_type": "code",
   "execution_count": 11,
   "id": "f244d6a6",
   "metadata": {},
   "outputs": [
    {
     "data": {
      "text/plain": [
       "<matplotlib.legend.Legend at 0x7f640bead070>"
      ]
     },
     "execution_count": 11,
     "metadata": {},
     "output_type": "execute_result"
    },
    {
     "data": {
      "image/png": "[encoded data removed]",
      "text/plain": [
       "<Figure size 800x600 with 1 Axes>"
      ]
     },
     "metadata": {},
     "output_type": "display_data"
    }
   ],
   "source": [
    "# make a histogram of the gen electron and positron pT\n",
    "plt.figure(figsize=(8,6))\n",
    "bins = np.linspace(0,30,50)\n",
    "h1 = plt.hist(t['GenEle_pt'].array(),bins=bins,histtype='step',label='Gen Electrons')\n",
    "h1 = plt.hist(t['GenPos_pt'].array(),bins=bins,histtype='step',label='Gen Positrons')\n",
    "plt.xlabel(\"Lepton $p_T$ [GeV]\")\n",
    "plt.legend()"
   ]
  },
  {
   "cell_type": "code",
   "execution_count": 12,
   "id": "cc414dff",
   "metadata": {},
   "outputs": [
    {
     "data": {
      "text/plain": [
       "Text(0, 0.5, 'Positron $p_T$ [GeV]')"
      ]
     },
     "execution_count": 12,
     "metadata": {},
     "output_type": "execute_result"
    },
    {
     "data": {
      "image/png": "[encoded data removed]",
      "text/plain": [
       "<Figure size 800x600 with 1 Axes>"
      ]
     },
     "metadata": {},
     "output_type": "display_data"
    }
   ],
   "source": [
    "# make a 2D histogram of the gen electron and positron pT\n",
    "plt.figure(figsize=(8,6))\n",
    "bins = np.linspace(0,15,50)\n",
    "h1 = plt.hist2d(t['GenEle_pt'].array(),t['GenPos_pt'].array(),bins=bins)\n",
    "plt.xlabel(\"Electon $p_T$ [GeV]\")\n",
    "plt.ylabel(\"Positron $p_T$ [GeV]\")"
   ]
  },
  {
   "cell_type": "markdown",
   "id": "fdad5465",
   "metadata": {},
   "source": [
    "# An easier way to do file I/O\n",
    "\n",
    "Uproot is nice for interacting with single files with a few branches, but gets a little cumbersome when there are many branches with long names. Instead, we can use the `coffea` package to interact with the files using the `NanoEvents` format. Here, I use the `loadNano` function from the `analysisTools` python file we imported at the top of tthe notebook. Go check out the source code if you want to know more about how this works!"
   ]
  },
  {
   "cell_type": "code",
   "execution_count": 13,
   "id": "3c4d1157",
   "metadata": {},
   "outputs": [],
   "source": [
    "inFile = fullList[0]\n",
    "events = tools.loadNano(inFile)"
   ]
  },
  {
   "cell_type": "markdown",
   "id": "335b5753",
   "metadata": {},
   "source": [
    "The `events` object now allows us to access event data in a structured way based on the branch names. For instance, all the `Electron` information can be accessed via `events.Electron` etc."
   ]
  },
  {
   "cell_type": "code",
   "execution_count": 14,
   "id": "11ae8b59",
   "metadata": {},
   "outputs": [
    {
     "data": {
      "text/plain": [
       "['GenEleClosestLpt',\n",
       " 'GenJet',\n",
       " 'LptElectron',\n",
       " 'nPFJetAll',\n",
       " 'CaloMET',\n",
       " 'rho',\n",
       " 'nGenEleTrkMatches',\n",
       " 'Conversion',\n",
       " 'runNum',\n",
       " 'trigFired17',\n",
       " 'PFJet',\n",
       " 'trigFired18',\n",
       " 'nGenPosTrkMatches',\n",
       " 'GenPos',\n",
       " 'METFiltersFailBits',\n",
       " 'GenPosClosest',\n",
       " 'trigFired16',\n",
       " 'GenEle',\n",
       " 'genPosNearTk',\n",
       " 'genEE',\n",
       " 'GenPosClosestReg',\n",
       " 'genWgt',\n",
       " 'ootPhoton',\n",
       " 'GenPosClosestLpt',\n",
       " 'eventNum',\n",
       " 'GenPart',\n",
       " 'GenMET',\n",
       " 'HEM',\n",
       " 'lumiSec',\n",
       " 'vtx',\n",
       " 'GenEleClosest',\n",
       " 'genEleNearTk',\n",
       " 'Electron',\n",
       " 'trigFired',\n",
       " 'genPU',\n",
       " 'PFMET',\n",
       " 'GenEleClosestReg',\n",
       " 'Photon']"
      ]
     },
     "execution_count": 14,
     "metadata": {},
     "output_type": "execute_result"
    }
   ],
   "source": [
    "events.fields"
   ]
  },
  {
   "cell_type": "code",
   "execution_count": 15,
   "id": "684e9b9d",
   "metadata": {},
   "outputs": [
    {
     "data": {
      "text/plain": [
       "<Array [[52.6], [3.91], ... 6.44], [3.59]] type='29682 * var * float32[parameter...'>"
      ]
     },
     "execution_count": 15,
     "metadata": {},
     "output_type": "execute_result"
    }
   ],
   "source": [
    "events.Electron.pt"
   ]
  },
  {
   "cell_type": "code",
   "execution_count": 16,
   "id": "a676f384",
   "metadata": {},
   "outputs": [
    {
     "data": {
      "text/plain": [
       "<Array [[], [], [], [], ... [], [3.7], [4.12]] type='29682 * var * float32[param...'>"
      ]
     },
     "execution_count": 16,
     "metadata": {},
     "output_type": "execute_result"
    }
   ],
   "source": [
    "events.LptElectron.pt"
   ]
  },
  {
   "cell_type": "markdown",
   "id": "93e86799",
   "metadata": {},
   "source": [
    "# A basic analysis example\n",
    "Let's try applying a few basic cuts to the `events` object, which should give you a feel for how columnar analysis works\n",
    "\n",
    "First, we apply a cut demanding at least 200 GeV of missing energy:"
   ]
  },
  {
   "cell_type": "code",
   "execution_count": 17,
   "id": "50dede7f",
   "metadata": {},
   "outputs": [
    {
     "data": {
      "text/plain": [
       "<Array [False, False, False, ... False, False] type='29682 * bool'>"
      ]
     },
     "execution_count": 17,
     "metadata": {},
     "output_type": "execute_result"
    }
   ],
   "source": [
    "cut1 = events.PFMET.pt > 200\n",
    "cut1"
   ]
  },
  {
   "cell_type": "markdown",
   "id": "2fdbef4f",
   "metadata": {},
   "source": [
    "As you can see, `cut1` is an array of booleans that tell us whether or not each event passes the missing energy cut. Let's apply this cut now"
   ]
  },
  {
   "cell_type": "code",
   "execution_count": 19,
   "id": "32652939",
   "metadata": {},
   "outputs": [
    {
     "name": "stdout",
     "output_type": "stream",
     "text": [
      "Before cut : 29682 events\n",
      "After cut : 1060 events\n"
     ]
    }
   ],
   "source": [
    "print(f\"Before cut : {len(events)} events\")\n",
    "events = events[cut1]\n",
    "print(f\"After cut : {len(events)} events\")"
   ]
  },
  {
   "cell_type": "code",
   "execution_count": 23,
   "id": "694d04ed",
   "metadata": {},
   "outputs": [
    {
     "data": {
      "text/plain": [
       "['pt',\n",
       " 'eta',\n",
       " 'etaErr',\n",
       " 'phi',\n",
       " 'phiErr',\n",
       " 'IDcutVeto',\n",
       " 'IDcutLoose',\n",
       " 'IDcutMed',\n",
       " 'IDcutTight',\n",
       " 'IDmvaIso90',\n",
       " 'IDmvaIso80',\n",
       " 'IDmvaIsoLoose',\n",
       " 'IDmva90',\n",
       " 'IDmva80',\n",
       " 'IDmvaLoose',\n",
       " 'angRes',\n",
       " 'e',\n",
       " 'vxy',\n",
       " 'vz',\n",
       " 'dxy',\n",
       " 'dxyErr',\n",
       " 'dz',\n",
       " 'dzErr',\n",
       " 'trkChi2',\n",
       " 'trkIso',\n",
       " 'trkRelIso',\n",
       " 'calIso',\n",
       " 'calRelIso',\n",
       " 'PFIso4',\n",
       " 'PFRelIso4',\n",
       " 'PFIso3',\n",
       " 'PFRelIso3',\n",
       " 'PFIso8',\n",
       " 'PFRelIso8',\n",
       " 'PFIso',\n",
       " 'PFRelIso',\n",
       " 'trkProb',\n",
       " 'numTrackerHits',\n",
       " 'numPixHits',\n",
       " 'numStripHits',\n",
       " 'charge']"
      ]
     },
     "execution_count": 23,
     "metadata": {},
     "output_type": "execute_result"
    }
   ],
   "source": [
    "events.Electron.fields"
   ]
  },
  {
   "cell_type": "code",
   "execution_count": 21,
   "id": "2f46eb08",
   "metadata": {},
   "outputs": [
    {
     "data": {
      "text/plain": [
       "['pt',\n",
       " 'eta',\n",
       " 'etaErr',\n",
       " 'phi',\n",
       " 'phiErr',\n",
       " 'ID',\n",
       " 'angRes',\n",
       " 'e',\n",
       " 'vxy',\n",
       " 'vz',\n",
       " 'dxy',\n",
       " 'dxyErr',\n",
       " 'dz',\n",
       " 'dzErr',\n",
       " 'trkChi2',\n",
       " 'trkIso',\n",
       " 'trkRelIso',\n",
       " 'calIso',\n",
       " 'calRelIso',\n",
       " 'PFIso4',\n",
       " 'PFRelIso4',\n",
       " 'PFIso3',\n",
       " 'PFRelIso3',\n",
       " 'PFIso8',\n",
       " 'PFIso',\n",
       " 'PFRelIso',\n",
       " 'PFRelIso8',\n",
       " 'trkProb',\n",
       " 'numTrackerHits',\n",
       " 'numPixHits',\n",
       " 'numStripHits',\n",
       " 'charge',\n",
       " 'minDRtoReg']"
      ]
     },
     "execution_count": 21,
     "metadata": {},
     "output_type": "execute_result"
    }
   ],
   "source": [
    "events.LptElectron.fields"
   ]
  },
  {
   "cell_type": "code",
   "execution_count": null,
   "id": "c58c45ac",
   "metadata": {},
   "outputs": [],
   "source": []
  }
 ],
 "metadata": {
  "kernelspec": {
   "display_name": "coffea2",
   "language": "python",
   "name": "python3"
  },
  "language_info": {
   "codemirror_mode": {
    "name": "ipython",
    "version": 3
   },
   "file_extension": ".py",
   "mimetype": "text/x-python",
   "name": "python",
   "nbconvert_exporter": "python",
   "pygments_lexer": "ipython3",
   "version": "3.8.17"
  }
 },
 "nbformat": 4,
 "nbformat_minor": 5
}
